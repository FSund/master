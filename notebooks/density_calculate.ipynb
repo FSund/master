{
 "metadata": {
  "name": ""
 },
 "nbformat": 3,
 "nbformat_minor": 0,
 "worksheets": [
  {
   "cells": [
    {
     "cell_type": "markdown",
     "metadata": {},
     "source": [
      "## Set up python environment\n",
      "Import, change directory"
     ]
    },
    {
     "cell_type": "code",
     "collapsed": false,
     "input": [
      "# Set up environment, change directory\n",
      "import os.path\n",
      "\n",
      "top_cwd = \"/home/fsund/Dropbox/Masteroppgave/master/notebooks\"\n",
      "cwd = \"/home/fsund/Dropbox/Masteroppgave/master/notebooks/density\"\n",
      "os.chdir(cwd)\n",
      "print os.getcwd()"
     ],
     "language": "python",
     "metadata": {},
     "outputs": [
      {
       "output_type": "stream",
       "stream": "stdout",
       "text": [
        "/home/fsund/Dropbox/Masteroppgave/master/notebooks/density\n"
       ]
      }
     ],
     "prompt_number": 7
    },
    {
     "cell_type": "markdown",
     "metadata": {},
     "source": [
      "#### Rough fracture - DONE WITH 200"
     ]
    },
    {
     "cell_type": "code",
     "collapsed": false,
     "input": [
      "# Set up variables\n",
      "project_location = '~/Projects/'\n",
      "project_name = 'rough_fracture01_abel'\n",
      "states_folder = '12_04_measuring_every_100th_timestep_200steps'\n",
      "path_to_states = os.path.join(project_location, project_name, states_folder)\n",
      "state_folders = !find $path_to_states -name 0* -type d | sort\n",
      "n_cpus = [3, 3, 3]"
     ],
     "language": "python",
     "metadata": {},
     "outputs": [],
     "prompt_number": 8
    },
    {
     "cell_type": "markdown",
     "metadata": {},
     "source": [
      "#### Flat square fracture - DONE WITH 200"
     ]
    },
    {
     "cell_type": "code",
     "collapsed": false,
     "input": [
      "# Set up variables\n",
      "project_location = '~/Projects/'\n",
      "project_name = 'flat_square_fracture02'\n",
      "states_folder = '10_05_measuring_every_100th_timestep_200steps'\n",
      "path_to_states = os.path.join(project_location, project_name, states_folder)\n",
      "state_folders = !find $path_to_states -name 0* -type d | sort\n",
      "n_cpus = [4, 4, 4]"
     ],
     "language": "python",
     "metadata": {},
     "outputs": [],
     "prompt_number": 14
    },
    {
     "cell_type": "markdown",
     "metadata": {},
     "source": [
      "## Settings"
     ]
    },
    {
     "cell_type": "code",
     "collapsed": false,
     "input": [
      "command = './measure_density_water_distance_from_matrix.x'\n",
      "r_start = 0.0\n",
      "r_step = 0.25\n",
      "n_steps = 40"
     ],
     "language": "python",
     "metadata": {},
     "outputs": [],
     "prompt_number": 15
    },
    {
     "cell_type": "code",
     "collapsed": false,
     "input": [
      "print state_folders[0]\n",
      "print state_folders[-1]"
     ],
     "language": "python",
     "metadata": {},
     "outputs": [
      {
       "output_type": "stream",
       "stream": "stdout",
       "text": [
        "/home/fsund/Projects/flat_square_fracture02/10_05_measuring_every_100th_timestep_200steps/000000\n",
        "/home/fsund/Projects/flat_square_fracture02/10_05_measuring_every_100th_timestep_200steps/000199\n"
       ]
      }
     ],
     "prompt_number": 16
    },
    {
     "cell_type": "markdown",
     "metadata": {},
     "source": [
      "## Set up folders and copy scripts\n",
      "\n",
      "Create output folders (if missing) and copy this script to output folder"
     ]
    },
    {
     "cell_type": "code",
     "collapsed": false,
     "input": [
      "partial_output_folder = os.path.join(project_name, states_folder)\n",
      "!mkdir -p $partial_output_folder\n",
      "\n",
      "partial_output_folder = os.path.join(partial_output_folder, \"dr%.2f_n%d\" %(r_step, n_steps))\n",
      "i = 0\n",
      "output_folder = \"%s_%03d\" %(partial_output_folder, i)\n",
      "if os.path.exists(output_folder):\n",
      "    print \"Wanted output folder \\\"%s\\\" exists, trying higher numbers\" %output_folder\n",
      "    i += 1\n",
      "    output_folder = \"%s_%03d\" %(partial_output_folder, i)\n",
      "    while os.path.exists(output_folder):\n",
      "        print \"    %03d also exists, trying higher numbers\" %i\n",
      "        i += 1\n",
      "        output_folder = \"%s_%03d\" %(partial_output_folder, i)\n",
      "        if (i>99):\n",
      "            print \"Too many folders, aborting!\"\n",
      "            output_folder = \"\"\n",
      "            exit(1)\n",
      "\n",
      "print \"Making output folder \\\"%s\\\"\" %output_folder    \n",
      "!mkdir $output_folder\n",
      "\n",
      "script_name = \"density_calculate.ipynb\"\n",
      "path_to_script = os.path.join(top_cwd, script_name)\n",
      "copy_script_to = os.path.join(output_folder, script_name)\n",
      "print \"Copying script to output folder\"\n",
      "!cp $path_to_script $copy_script_to"
     ],
     "language": "python",
     "metadata": {},
     "outputs": [
      {
       "output_type": "stream",
       "stream": "stdout",
       "text": [
        "Making output folder \"flat_square_fracture02/10_05_measuring_every_100th_timestep_200steps/dr0.25_n40_000\"\n"
       ]
      },
      {
       "output_type": "stream",
       "stream": "stdout",
       "text": [
        "Copying script to output folder\n"
       ]
      }
     ],
     "prompt_number": 17
    },
    {
     "cell_type": "markdown",
     "metadata": {},
     "source": [
      "## Run program"
     ]
    },
    {
     "cell_type": "code",
     "collapsed": false,
     "input": [
      "if True:\n",
      "    results = [] # empty list\n",
      "    # state_folders = list( state_folders[i] for i in [0, 24, 49] )\n",
      "    for idx, state_folder in enumerate(state_folders):\n",
      "        mts0_folder = !find $state_folder -name 'mts0' -type d\n",
      "    \n",
      "        output_file = os.path.join(output_folder, 'output_%04d.txt' %(idx))\n",
      "        #print output_file\n",
      "        args = mts0_folder.n + ' %d %d %d %f %f %d %s' %(n_cpus[0], n_cpus[1], n_cpus[2], r_start, r_step, n_steps, output_file)\n",
      "        \n",
      "        print \"Running command \\n    \\\"%s %s\\\"\\n\" %(command, args)\n",
      "    \n",
      "        command_output = !$command $args\n",
      "        #!$command $args # THIS GIVES A LOT OF OUTPUT, WHICH SLOWS DOWN THE NOTEBOOK"
     ],
     "language": "python",
     "metadata": {},
     "outputs": [
      {
       "output_type": "stream",
       "stream": "stdout",
       "text": [
        "Running command \n",
        "    \"./measure_density_water_distance_from_matrix.x /home/fsund/Projects/flat_square_fracture02/10_05_measuring_every_100th_timestep_200steps/000000/mts0 4 4 4 0.000000 0.250000 40 flat_square_fracture02/10_05_measuring_every_100th_timestep_200steps/dr0.25_n40_000/output_0000.txt\"\n",
        "\n"
       ]
      },
      {
       "output_type": "stream",
       "stream": "stdout",
       "text": [
        "Running command \n",
        "    \"./measure_density_water_distance_from_matrix.x /home/fsund/Projects/flat_square_fracture02/10_05_measuring_every_100th_timestep_200steps/000001/mts0 4 4 4 0.000000 0.250000 40 flat_square_fracture02/10_05_measuring_every_100th_timestep_200steps/dr0.25_n40_000/output_0001.txt\"\n",
        "\n"
       ]
      },
      {
       "output_type": "stream",
       "stream": "stdout",
       "text": [
        "Running command \n",
        "    \"./measure_density_water_distance_from_matrix.x /home/fsund/Projects/flat_square_fracture02/10_05_measuring_every_100th_timestep_200steps/000002/mts0 4 4 4 0.000000 0.250000 40 flat_square_fracture02/10_05_measuring_every_100th_timestep_200steps/dr0.25_n40_000/output_0002.txt\"\n",
        "\n"
       ]
      },
      {
       "output_type": "stream",
       "stream": "stdout",
       "text": [
        "Running command \n",
        "    \"./measure_density_water_distance_from_matrix.x /home/fsund/Projects/flat_square_fracture02/10_05_measuring_every_100th_timestep_200steps/000003/mts0 4 4 4 0.000000 0.250000 40 flat_square_fracture02/10_05_measuring_every_100th_timestep_200steps/dr0.25_n40_000/output_0003.txt\"\n",
        "\n"
       ]
      },
      {
       "output_type": "stream",
       "stream": "stdout",
       "text": [
        "Running command \n",
        "    \"./measure_density_water_distance_from_matrix.x /home/fsund/Projects/flat_square_fracture02/10_05_measuring_every_100th_timestep_200steps/000004/mts0 4 4 4 0.000000 0.250000 40 flat_square_fracture02/10_05_measuring_every_100th_timestep_200steps/dr0.25_n40_000/output_0004.txt\"\n",
        "\n"
       ]
      },
      {
       "output_type": "stream",
       "stream": "stdout",
       "text": [
        "Running command \n",
        "    \"./measure_density_water_distance_from_matrix.x /home/fsund/Projects/flat_square_fracture02/10_05_measuring_every_100th_timestep_200steps/000005/mts0 4 4 4 0.000000 0.250000 40 flat_square_fracture02/10_05_measuring_every_100th_timestep_200steps/dr0.25_n40_000/output_0005.txt\"\n",
        "\n"
       ]
      },
      {
       "output_type": "stream",
       "stream": "stdout",
       "text": [
        "Running command \n",
        "    \"./measure_density_water_distance_from_matrix.x /home/fsund/Projects/flat_square_fracture02/10_05_measuring_every_100th_timestep_200steps/000006/mts0 4 4 4 0.000000 0.250000 40 flat_square_fracture02/10_05_measuring_every_100th_timestep_200steps/dr0.25_n40_000/output_0006.txt\"\n",
        "\n"
       ]
      },
      {
       "output_type": "stream",
       "stream": "stdout",
       "text": [
        "Running command \n",
        "    \"./measure_density_water_distance_from_matrix.x /home/fsund/Projects/flat_square_fracture02/10_05_measuring_every_100th_timestep_200steps/000007/mts0 4 4 4 0.000000 0.250000 40 flat_square_fracture02/10_05_measuring_every_100th_timestep_200steps/dr0.25_n40_000/output_0007.txt\"\n",
        "\n"
       ]
      },
      {
       "output_type": "stream",
       "stream": "stdout",
       "text": [
        "Running command \n",
        "    \"./measure_density_water_distance_from_matrix.x /home/fsund/Projects/flat_square_fracture02/10_05_measuring_every_100th_timestep_200steps/000008/mts0 4 4 4 0.000000 0.250000 40 flat_square_fracture02/10_05_measuring_every_100th_timestep_200steps/dr0.25_n40_000/output_0008.txt\"\n",
        "\n"
       ]
      },
      {
       "output_type": "stream",
       "stream": "stdout",
       "text": [
        "Running command \n",
        "    \"./measure_density_water_distance_from_matrix.x /home/fsund/Projects/flat_square_fracture02/10_05_measuring_every_100th_timestep_200steps/000009/mts0 4 4 4 0.000000 0.250000 40 flat_square_fracture02/10_05_measuring_every_100th_timestep_200steps/dr0.25_n40_000/output_0009.txt\"\n",
        "\n"
       ]
      },
      {
       "output_type": "stream",
       "stream": "stdout",
       "text": [
        "Running command \n",
        "    \"./measure_density_water_distance_from_matrix.x /home/fsund/Projects/flat_square_fracture02/10_05_measuring_every_100th_timestep_200steps/000010/mts0 4 4 4 0.000000 0.250000 40 flat_square_fracture02/10_05_measuring_every_100th_timestep_200steps/dr0.25_n40_000/output_0010.txt\"\n",
        "\n"
       ]
      },
      {
       "output_type": "stream",
       "stream": "stdout",
       "text": [
        "Running command \n",
        "    \"./measure_density_water_distance_from_matrix.x /home/fsund/Projects/flat_square_fracture02/10_05_measuring_every_100th_timestep_200steps/000011/mts0 4 4 4 0.000000 0.250000 40 flat_square_fracture02/10_05_measuring_every_100th_timestep_200steps/dr0.25_n40_000/output_0011.txt\"\n",
        "\n"
       ]
      },
      {
       "output_type": "stream",
       "stream": "stdout",
       "text": [
        "Running command \n",
        "    \"./measure_density_water_distance_from_matrix.x /home/fsund/Projects/flat_square_fracture02/10_05_measuring_every_100th_timestep_200steps/000012/mts0 4 4 4 0.000000 0.250000 40 flat_square_fracture02/10_05_measuring_every_100th_timestep_200steps/dr0.25_n40_000/output_0012.txt\"\n",
        "\n"
       ]
      },
      {
       "output_type": "stream",
       "stream": "stdout",
       "text": [
        "Running command \n",
        "    \"./measure_density_water_distance_from_matrix.x /home/fsund/Projects/flat_square_fracture02/10_05_measuring_every_100th_timestep_200steps/000013/mts0 4 4 4 0.000000 0.250000 40 flat_square_fracture02/10_05_measuring_every_100th_timestep_200steps/dr0.25_n40_000/output_0013.txt\"\n",
        "\n"
       ]
      },
      {
       "output_type": "stream",
       "stream": "stdout",
       "text": [
        "Running command \n",
        "    \"./measure_density_water_distance_from_matrix.x /home/fsund/Projects/flat_square_fracture02/10_05_measuring_every_100th_timestep_200steps/000014/mts0 4 4 4 0.000000 0.250000 40 flat_square_fracture02/10_05_measuring_every_100th_timestep_200steps/dr0.25_n40_000/output_0014.txt\"\n",
        "\n"
       ]
      },
      {
       "output_type": "stream",
       "stream": "stdout",
       "text": [
        "Running command \n",
        "    \"./measure_density_water_distance_from_matrix.x /home/fsund/Projects/flat_square_fracture02/10_05_measuring_every_100th_timestep_200steps/000015/mts0 4 4 4 0.000000 0.250000 40 flat_square_fracture02/10_05_measuring_every_100th_timestep_200steps/dr0.25_n40_000/output_0015.txt\"\n",
        "\n"
       ]
      },
      {
       "output_type": "stream",
       "stream": "stdout",
       "text": [
        "Running command \n",
        "    \"./measure_density_water_distance_from_matrix.x /home/fsund/Projects/flat_square_fracture02/10_05_measuring_every_100th_timestep_200steps/000016/mts0 4 4 4 0.000000 0.250000 40 flat_square_fracture02/10_05_measuring_every_100th_timestep_200steps/dr0.25_n40_000/output_0016.txt\"\n",
        "\n"
       ]
      },
      {
       "output_type": "stream",
       "stream": "stdout",
       "text": [
        "Running command \n",
        "    \"./measure_density_water_distance_from_matrix.x /home/fsund/Projects/flat_square_fracture02/10_05_measuring_every_100th_timestep_200steps/000017/mts0 4 4 4 0.000000 0.250000 40 flat_square_fracture02/10_05_measuring_every_100th_timestep_200steps/dr0.25_n40_000/output_0017.txt\"\n",
        "\n"
       ]
      },
      {
       "output_type": "stream",
       "stream": "stdout",
       "text": [
        "Running command \n",
        "    \"./measure_density_water_distance_from_matrix.x /home/fsund/Projects/flat_square_fracture02/10_05_measuring_every_100th_timestep_200steps/000018/mts0 4 4 4 0.000000 0.250000 40 flat_square_fracture02/10_05_measuring_every_100th_timestep_200steps/dr0.25_n40_000/output_0018.txt\"\n",
        "\n"
       ]
      },
      {
       "output_type": "stream",
       "stream": "stdout",
       "text": [
        "Running command \n",
        "    \"./measure_density_water_distance_from_matrix.x /home/fsund/Projects/flat_square_fracture02/10_05_measuring_every_100th_timestep_200steps/000019/mts0 4 4 4 0.000000 0.250000 40 flat_square_fracture02/10_05_measuring_every_100th_timestep_200steps/dr0.25_n40_000/output_0019.txt\"\n",
        "\n"
       ]
      },
      {
       "output_type": "stream",
       "stream": "stdout",
       "text": [
        "Running command \n",
        "    \"./measure_density_water_distance_from_matrix.x /home/fsund/Projects/flat_square_fracture02/10_05_measuring_every_100th_timestep_200steps/000020/mts0 4 4 4 0.000000 0.250000 40 flat_square_fracture02/10_05_measuring_every_100th_timestep_200steps/dr0.25_n40_000/output_0020.txt\"\n",
        "\n"
       ]
      },
      {
       "output_type": "stream",
       "stream": "stdout",
       "text": [
        "Running command \n",
        "    \"./measure_density_water_distance_from_matrix.x /home/fsund/Projects/flat_square_fracture02/10_05_measuring_every_100th_timestep_200steps/000021/mts0 4 4 4 0.000000 0.250000 40 flat_square_fracture02/10_05_measuring_every_100th_timestep_200steps/dr0.25_n40_000/output_0021.txt\"\n",
        "\n"
       ]
      },
      {
       "output_type": "stream",
       "stream": "stdout",
       "text": [
        "Running command \n",
        "    \"./measure_density_water_distance_from_matrix.x /home/fsund/Projects/flat_square_fracture02/10_05_measuring_every_100th_timestep_200steps/000022/mts0 4 4 4 0.000000 0.250000 40 flat_square_fracture02/10_05_measuring_every_100th_timestep_200steps/dr0.25_n40_000/output_0022.txt\"\n",
        "\n"
       ]
      },
      {
       "output_type": "stream",
       "stream": "stdout",
       "text": [
        "Running command \n",
        "    \"./measure_density_water_distance_from_matrix.x /home/fsund/Projects/flat_square_fracture02/10_05_measuring_every_100th_timestep_200steps/000023/mts0 4 4 4 0.000000 0.250000 40 flat_square_fracture02/10_05_measuring_every_100th_timestep_200steps/dr0.25_n40_000/output_0023.txt\"\n",
        "\n"
       ]
      },
      {
       "output_type": "stream",
       "stream": "stdout",
       "text": [
        "Running command \n",
        "    \"./measure_density_water_distance_from_matrix.x /home/fsund/Projects/flat_square_fracture02/10_05_measuring_every_100th_timestep_200steps/000024/mts0 4 4 4 0.000000 0.250000 40 flat_square_fracture02/10_05_measuring_every_100th_timestep_200steps/dr0.25_n40_000/output_0024.txt\"\n",
        "\n"
       ]
      },
      {
       "output_type": "stream",
       "stream": "stdout",
       "text": [
        "Running command \n",
        "    \"./measure_density_water_distance_from_matrix.x /home/fsund/Projects/flat_square_fracture02/10_05_measuring_every_100th_timestep_200steps/000025/mts0 4 4 4 0.000000 0.250000 40 flat_square_fracture02/10_05_measuring_every_100th_timestep_200steps/dr0.25_n40_000/output_0025.txt\"\n",
        "\n"
       ]
      },
      {
       "output_type": "stream",
       "stream": "stdout",
       "text": [
        "Running command \n",
        "    \"./measure_density_water_distance_from_matrix.x /home/fsund/Projects/flat_square_fracture02/10_05_measuring_every_100th_timestep_200steps/000026/mts0 4 4 4 0.000000 0.250000 40 flat_square_fracture02/10_05_measuring_every_100th_timestep_200steps/dr0.25_n40_000/output_0026.txt\"\n",
        "\n"
       ]
      },
      {
       "output_type": "stream",
       "stream": "stdout",
       "text": [
        "Running command \n",
        "    \"./measure_density_water_distance_from_matrix.x /home/fsund/Projects/flat_square_fracture02/10_05_measuring_every_100th_timestep_200steps/000027/mts0 4 4 4 0.000000 0.250000 40 flat_square_fracture02/10_05_measuring_every_100th_timestep_200steps/dr0.25_n40_000/output_0027.txt\"\n",
        "\n"
       ]
      },
      {
       "output_type": "stream",
       "stream": "stdout",
       "text": [
        "Running command \n",
        "    \"./measure_density_water_distance_from_matrix.x /home/fsund/Projects/flat_square_fracture02/10_05_measuring_every_100th_timestep_200steps/000028/mts0 4 4 4 0.000000 0.250000 40 flat_square_fracture02/10_05_measuring_every_100th_timestep_200steps/dr0.25_n40_000/output_0028.txt\"\n",
        "\n"
       ]
      },
      {
       "output_type": "stream",
       "stream": "stdout",
       "text": [
        "Running command \n",
        "    \"./measure_density_water_distance_from_matrix.x /home/fsund/Projects/flat_square_fracture02/10_05_measuring_every_100th_timestep_200steps/000029/mts0 4 4 4 0.000000 0.250000 40 flat_square_fracture02/10_05_measuring_every_100th_timestep_200steps/dr0.25_n40_000/output_0029.txt\"\n",
        "\n"
       ]
      },
      {
       "output_type": "stream",
       "stream": "stdout",
       "text": [
        "Running command \n",
        "    \"./measure_density_water_distance_from_matrix.x /home/fsund/Projects/flat_square_fracture02/10_05_measuring_every_100th_timestep_200steps/000030/mts0 4 4 4 0.000000 0.250000 40 flat_square_fracture02/10_05_measuring_every_100th_timestep_200steps/dr0.25_n40_000/output_0030.txt\"\n",
        "\n"
       ]
      },
      {
       "output_type": "stream",
       "stream": "stdout",
       "text": [
        "Running command \n",
        "    \"./measure_density_water_distance_from_matrix.x /home/fsund/Projects/flat_square_fracture02/10_05_measuring_every_100th_timestep_200steps/000031/mts0 4 4 4 0.000000 0.250000 40 flat_square_fracture02/10_05_measuring_every_100th_timestep_200steps/dr0.25_n40_000/output_0031.txt\"\n",
        "\n"
       ]
      },
      {
       "output_type": "stream",
       "stream": "stdout",
       "text": [
        "Running command \n",
        "    \"./measure_density_water_distance_from_matrix.x /home/fsund/Projects/flat_square_fracture02/10_05_measuring_every_100th_timestep_200steps/000032/mts0 4 4 4 0.000000 0.250000 40 flat_square_fracture02/10_05_measuring_every_100th_timestep_200steps/dr0.25_n40_000/output_0032.txt\"\n",
        "\n"
       ]
      },
      {
       "output_type": "stream",
       "stream": "stdout",
       "text": [
        "Running command \n",
        "    \"./measure_density_water_distance_from_matrix.x /home/fsund/Projects/flat_square_fracture02/10_05_measuring_every_100th_timestep_200steps/000033/mts0 4 4 4 0.000000 0.250000 40 flat_square_fracture02/10_05_measuring_every_100th_timestep_200steps/dr0.25_n40_000/output_0033.txt\"\n",
        "\n"
       ]
      },
      {
       "output_type": "stream",
       "stream": "stdout",
       "text": [
        "Running command \n",
        "    \"./measure_density_water_distance_from_matrix.x /home/fsund/Projects/flat_square_fracture02/10_05_measuring_every_100th_timestep_200steps/000034/mts0 4 4 4 0.000000 0.250000 40 flat_square_fracture02/10_05_measuring_every_100th_timestep_200steps/dr0.25_n40_000/output_0034.txt\"\n",
        "\n"
       ]
      },
      {
       "output_type": "stream",
       "stream": "stdout",
       "text": [
        "Running command \n",
        "    \"./measure_density_water_distance_from_matrix.x /home/fsund/Projects/flat_square_fracture02/10_05_measuring_every_100th_timestep_200steps/000035/mts0 4 4 4 0.000000 0.250000 40 flat_square_fracture02/10_05_measuring_every_100th_timestep_200steps/dr0.25_n40_000/output_0035.txt\"\n",
        "\n"
       ]
      },
      {
       "output_type": "stream",
       "stream": "stdout",
       "text": [
        "Running command \n",
        "    \"./measure_density_water_distance_from_matrix.x /home/fsund/Projects/flat_square_fracture02/10_05_measuring_every_100th_timestep_200steps/000036/mts0 4 4 4 0.000000 0.250000 40 flat_square_fracture02/10_05_measuring_every_100th_timestep_200steps/dr0.25_n40_000/output_0036.txt\"\n",
        "\n"
       ]
      },
      {
       "output_type": "stream",
       "stream": "stdout",
       "text": [
        "Running command \n",
        "    \"./measure_density_water_distance_from_matrix.x /home/fsund/Projects/flat_square_fracture02/10_05_measuring_every_100th_timestep_200steps/000037/mts0 4 4 4 0.000000 0.250000 40 flat_square_fracture02/10_05_measuring_every_100th_timestep_200steps/dr0.25_n40_000/output_0037.txt\"\n",
        "\n"
       ]
      },
      {
       "output_type": "stream",
       "stream": "stdout",
       "text": [
        "Running command \n",
        "    \"./measure_density_water_distance_from_matrix.x /home/fsund/Projects/flat_square_fracture02/10_05_measuring_every_100th_timestep_200steps/000038/mts0 4 4 4 0.000000 0.250000 40 flat_square_fracture02/10_05_measuring_every_100th_timestep_200steps/dr0.25_n40_000/output_0038.txt\"\n",
        "\n"
       ]
      },
      {
       "output_type": "stream",
       "stream": "stdout",
       "text": [
        "Running command \n",
        "    \"./measure_density_water_distance_from_matrix.x /home/fsund/Projects/flat_square_fracture02/10_05_measuring_every_100th_timestep_200steps/000039/mts0 4 4 4 0.000000 0.250000 40 flat_square_fracture02/10_05_measuring_every_100th_timestep_200steps/dr0.25_n40_000/output_0039.txt\"\n",
        "\n"
       ]
      },
      {
       "output_type": "stream",
       "stream": "stdout",
       "text": [
        "Running command \n",
        "    \"./measure_density_water_distance_from_matrix.x /home/fsund/Projects/flat_square_fracture02/10_05_measuring_every_100th_timestep_200steps/000040/mts0 4 4 4 0.000000 0.250000 40 flat_square_fracture02/10_05_measuring_every_100th_timestep_200steps/dr0.25_n40_000/output_0040.txt\"\n",
        "\n"
       ]
      },
      {
       "output_type": "stream",
       "stream": "stdout",
       "text": [
        "Running command \n",
        "    \"./measure_density_water_distance_from_matrix.x /home/fsund/Projects/flat_square_fracture02/10_05_measuring_every_100th_timestep_200steps/000041/mts0 4 4 4 0.000000 0.250000 40 flat_square_fracture02/10_05_measuring_every_100th_timestep_200steps/dr0.25_n40_000/output_0041.txt\"\n",
        "\n"
       ]
      },
      {
       "output_type": "stream",
       "stream": "stdout",
       "text": [
        "Running command \n",
        "    \"./measure_density_water_distance_from_matrix.x /home/fsund/Projects/flat_square_fracture02/10_05_measuring_every_100th_timestep_200steps/000042/mts0 4 4 4 0.000000 0.250000 40 flat_square_fracture02/10_05_measuring_every_100th_timestep_200steps/dr0.25_n40_000/output_0042.txt\"\n",
        "\n"
       ]
      },
      {
       "output_type": "stream",
       "stream": "stdout",
       "text": [
        "Running command \n",
        "    \"./measure_density_water_distance_from_matrix.x /home/fsund/Projects/flat_square_fracture02/10_05_measuring_every_100th_timestep_200steps/000043/mts0 4 4 4 0.000000 0.250000 40 flat_square_fracture02/10_05_measuring_every_100th_timestep_200steps/dr0.25_n40_000/output_0043.txt\"\n",
        "\n"
       ]
      },
      {
       "output_type": "stream",
       "stream": "stdout",
       "text": [
        "Running command \n",
        "    \"./measure_density_water_distance_from_matrix.x /home/fsund/Projects/flat_square_fracture02/10_05_measuring_every_100th_timestep_200steps/000044/mts0 4 4 4 0.000000 0.250000 40 flat_square_fracture02/10_05_measuring_every_100th_timestep_200steps/dr0.25_n40_000/output_0044.txt\"\n",
        "\n"
       ]
      },
      {
       "output_type": "stream",
       "stream": "stdout",
       "text": [
        "Running command \n",
        "    \"./measure_density_water_distance_from_matrix.x /home/fsund/Projects/flat_square_fracture02/10_05_measuring_every_100th_timestep_200steps/000045/mts0 4 4 4 0.000000 0.250000 40 flat_square_fracture02/10_05_measuring_every_100th_timestep_200steps/dr0.25_n40_000/output_0045.txt\"\n",
        "\n"
       ]
      },
      {
       "output_type": "stream",
       "stream": "stdout",
       "text": [
        "Running command \n",
        "    \"./measure_density_water_distance_from_matrix.x /home/fsund/Projects/flat_square_fracture02/10_05_measuring_every_100th_timestep_200steps/000046/mts0 4 4 4 0.000000 0.250000 40 flat_square_fracture02/10_05_measuring_every_100th_timestep_200steps/dr0.25_n40_000/output_0046.txt\"\n",
        "\n"
       ]
      },
      {
       "output_type": "stream",
       "stream": "stdout",
       "text": [
        "Running command \n",
        "    \"./measure_density_water_distance_from_matrix.x /home/fsund/Projects/flat_square_fracture02/10_05_measuring_every_100th_timestep_200steps/000047/mts0 4 4 4 0.000000 0.250000 40 flat_square_fracture02/10_05_measuring_every_100th_timestep_200steps/dr0.25_n40_000/output_0047.txt\"\n",
        "\n"
       ]
      },
      {
       "output_type": "stream",
       "stream": "stdout",
       "text": [
        "Running command \n",
        "    \"./measure_density_water_distance_from_matrix.x /home/fsund/Projects/flat_square_fracture02/10_05_measuring_every_100th_timestep_200steps/000048/mts0 4 4 4 0.000000 0.250000 40 flat_square_fracture02/10_05_measuring_every_100th_timestep_200steps/dr0.25_n40_000/output_0048.txt\"\n",
        "\n"
       ]
      },
      {
       "output_type": "stream",
       "stream": "stdout",
       "text": [
        "Running command \n",
        "    \"./measure_density_water_distance_from_matrix.x /home/fsund/Projects/flat_square_fracture02/10_05_measuring_every_100th_timestep_200steps/000049/mts0 4 4 4 0.000000 0.250000 40 flat_square_fracture02/10_05_measuring_every_100th_timestep_200steps/dr0.25_n40_000/output_0049.txt\"\n",
        "\n"
       ]
      },
      {
       "output_type": "stream",
       "stream": "stdout",
       "text": [
        "Running command \n",
        "    \"./measure_density_water_distance_from_matrix.x /home/fsund/Projects/flat_square_fracture02/10_05_measuring_every_100th_timestep_200steps/000050/mts0 4 4 4 0.000000 0.250000 40 flat_square_fracture02/10_05_measuring_every_100th_timestep_200steps/dr0.25_n40_000/output_0050.txt\"\n",
        "\n"
       ]
      },
      {
       "output_type": "stream",
       "stream": "stdout",
       "text": [
        "Running command \n",
        "    \"./measure_density_water_distance_from_matrix.x /home/fsund/Projects/flat_square_fracture02/10_05_measuring_every_100th_timestep_200steps/000051/mts0 4 4 4 0.000000 0.250000 40 flat_square_fracture02/10_05_measuring_every_100th_timestep_200steps/dr0.25_n40_000/output_0051.txt\"\n",
        "\n"
       ]
      },
      {
       "output_type": "stream",
       "stream": "stdout",
       "text": [
        "Running command \n",
        "    \"./measure_density_water_distance_from_matrix.x /home/fsund/Projects/flat_square_fracture02/10_05_measuring_every_100th_timestep_200steps/000052/mts0 4 4 4 0.000000 0.250000 40 flat_square_fracture02/10_05_measuring_every_100th_timestep_200steps/dr0.25_n40_000/output_0052.txt\"\n",
        "\n"
       ]
      },
      {
       "output_type": "stream",
       "stream": "stdout",
       "text": [
        "Running command \n",
        "    \"./measure_density_water_distance_from_matrix.x /home/fsund/Projects/flat_square_fracture02/10_05_measuring_every_100th_timestep_200steps/000053/mts0 4 4 4 0.000000 0.250000 40 flat_square_fracture02/10_05_measuring_every_100th_timestep_200steps/dr0.25_n40_000/output_0053.txt\"\n",
        "\n"
       ]
      },
      {
       "output_type": "stream",
       "stream": "stdout",
       "text": [
        "Running command \n",
        "    \"./measure_density_water_distance_from_matrix.x /home/fsund/Projects/flat_square_fracture02/10_05_measuring_every_100th_timestep_200steps/000054/mts0 4 4 4 0.000000 0.250000 40 flat_square_fracture02/10_05_measuring_every_100th_timestep_200steps/dr0.25_n40_000/output_0054.txt\"\n",
        "\n"
       ]
      },
      {
       "output_type": "stream",
       "stream": "stdout",
       "text": [
        "Running command \n",
        "    \"./measure_density_water_distance_from_matrix.x /home/fsund/Projects/flat_square_fracture02/10_05_measuring_every_100th_timestep_200steps/000055/mts0 4 4 4 0.000000 0.250000 40 flat_square_fracture02/10_05_measuring_every_100th_timestep_200steps/dr0.25_n40_000/output_0055.txt\"\n",
        "\n"
       ]
      },
      {
       "output_type": "stream",
       "stream": "stdout",
       "text": [
        "Running command \n",
        "    \"./measure_density_water_distance_from_matrix.x /home/fsund/Projects/flat_square_fracture02/10_05_measuring_every_100th_timestep_200steps/000056/mts0 4 4 4 0.000000 0.250000 40 flat_square_fracture02/10_05_measuring_every_100th_timestep_200steps/dr0.25_n40_000/output_0056.txt\"\n",
        "\n"
       ]
      },
      {
       "output_type": "stream",
       "stream": "stdout",
       "text": [
        "Running command \n",
        "    \"./measure_density_water_distance_from_matrix.x /home/fsund/Projects/flat_square_fracture02/10_05_measuring_every_100th_timestep_200steps/000057/mts0 4 4 4 0.000000 0.250000 40 flat_square_fracture02/10_05_measuring_every_100th_timestep_200steps/dr0.25_n40_000/output_0057.txt\"\n",
        "\n"
       ]
      },
      {
       "output_type": "stream",
       "stream": "stdout",
       "text": [
        "Running command \n",
        "    \"./measure_density_water_distance_from_matrix.x /home/fsund/Projects/flat_square_fracture02/10_05_measuring_every_100th_timestep_200steps/000058/mts0 4 4 4 0.000000 0.250000 40 flat_square_fracture02/10_05_measuring_every_100th_timestep_200steps/dr0.25_n40_000/output_0058.txt\"\n",
        "\n"
       ]
      },
      {
       "output_type": "stream",
       "stream": "stdout",
       "text": [
        "Running command \n",
        "    \"./measure_density_water_distance_from_matrix.x /home/fsund/Projects/flat_square_fracture02/10_05_measuring_every_100th_timestep_200steps/000059/mts0 4 4 4 0.000000 0.250000 40 flat_square_fracture02/10_05_measuring_every_100th_timestep_200steps/dr0.25_n40_000/output_0059.txt\"\n",
        "\n"
       ]
      },
      {
       "output_type": "stream",
       "stream": "stdout",
       "text": [
        "Running command \n",
        "    \"./measure_density_water_distance_from_matrix.x /home/fsund/Projects/flat_square_fracture02/10_05_measuring_every_100th_timestep_200steps/000060/mts0 4 4 4 0.000000 0.250000 40 flat_square_fracture02/10_05_measuring_every_100th_timestep_200steps/dr0.25_n40_000/output_0060.txt\"\n",
        "\n"
       ]
      },
      {
       "output_type": "stream",
       "stream": "stdout",
       "text": [
        "Running command \n",
        "    \"./measure_density_water_distance_from_matrix.x /home/fsund/Projects/flat_square_fracture02/10_05_measuring_every_100th_timestep_200steps/000061/mts0 4 4 4 0.000000 0.250000 40 flat_square_fracture02/10_05_measuring_every_100th_timestep_200steps/dr0.25_n40_000/output_0061.txt\"\n",
        "\n"
       ]
      },
      {
       "output_type": "stream",
       "stream": "stdout",
       "text": [
        "Running command \n",
        "    \"./measure_density_water_distance_from_matrix.x /home/fsund/Projects/flat_square_fracture02/10_05_measuring_every_100th_timestep_200steps/000062/mts0 4 4 4 0.000000 0.250000 40 flat_square_fracture02/10_05_measuring_every_100th_timestep_200steps/dr0.25_n40_000/output_0062.txt\"\n",
        "\n"
       ]
      },
      {
       "output_type": "stream",
       "stream": "stdout",
       "text": [
        "Running command \n",
        "    \"./measure_density_water_distance_from_matrix.x /home/fsund/Projects/flat_square_fracture02/10_05_measuring_every_100th_timestep_200steps/000063/mts0 4 4 4 0.000000 0.250000 40 flat_square_fracture02/10_05_measuring_every_100th_timestep_200steps/dr0.25_n40_000/output_0063.txt\"\n",
        "\n"
       ]
      },
      {
       "output_type": "stream",
       "stream": "stdout",
       "text": [
        "Running command \n",
        "    \"./measure_density_water_distance_from_matrix.x /home/fsund/Projects/flat_square_fracture02/10_05_measuring_every_100th_timestep_200steps/000064/mts0 4 4 4 0.000000 0.250000 40 flat_square_fracture02/10_05_measuring_every_100th_timestep_200steps/dr0.25_n40_000/output_0064.txt\"\n",
        "\n"
       ]
      },
      {
       "output_type": "stream",
       "stream": "stdout",
       "text": [
        "Running command \n",
        "    \"./measure_density_water_distance_from_matrix.x /home/fsund/Projects/flat_square_fracture02/10_05_measuring_every_100th_timestep_200steps/000065/mts0 4 4 4 0.000000 0.250000 40 flat_square_fracture02/10_05_measuring_every_100th_timestep_200steps/dr0.25_n40_000/output_0065.txt\"\n",
        "\n"
       ]
      },
      {
       "output_type": "stream",
       "stream": "stdout",
       "text": [
        "Running command \n",
        "    \"./measure_density_water_distance_from_matrix.x /home/fsund/Projects/flat_square_fracture02/10_05_measuring_every_100th_timestep_200steps/000066/mts0 4 4 4 0.000000 0.250000 40 flat_square_fracture02/10_05_measuring_every_100th_timestep_200steps/dr0.25_n40_000/output_0066.txt\"\n",
        "\n"
       ]
      },
      {
       "output_type": "stream",
       "stream": "stdout",
       "text": [
        "Running command \n",
        "    \"./measure_density_water_distance_from_matrix.x /home/fsund/Projects/flat_square_fracture02/10_05_measuring_every_100th_timestep_200steps/000067/mts0 4 4 4 0.000000 0.250000 40 flat_square_fracture02/10_05_measuring_every_100th_timestep_200steps/dr0.25_n40_000/output_0067.txt\"\n",
        "\n"
       ]
      },
      {
       "output_type": "stream",
       "stream": "stdout",
       "text": [
        "Running command \n",
        "    \"./measure_density_water_distance_from_matrix.x /home/fsund/Projects/flat_square_fracture02/10_05_measuring_every_100th_timestep_200steps/000068/mts0 4 4 4 0.000000 0.250000 40 flat_square_fracture02/10_05_measuring_every_100th_timestep_200steps/dr0.25_n40_000/output_0068.txt\"\n",
        "\n"
       ]
      },
      {
       "output_type": "stream",
       "stream": "stdout",
       "text": [
        "Running command \n",
        "    \"./measure_density_water_distance_from_matrix.x /home/fsund/Projects/flat_square_fracture02/10_05_measuring_every_100th_timestep_200steps/000069/mts0 4 4 4 0.000000 0.250000 40 flat_square_fracture02/10_05_measuring_every_100th_timestep_200steps/dr0.25_n40_000/output_0069.txt\"\n",
        "\n"
       ]
      },
      {
       "output_type": "stream",
       "stream": "stdout",
       "text": [
        "Running command \n",
        "    \"./measure_density_water_distance_from_matrix.x /home/fsund/Projects/flat_square_fracture02/10_05_measuring_every_100th_timestep_200steps/000070/mts0 4 4 4 0.000000 0.250000 40 flat_square_fracture02/10_05_measuring_every_100th_timestep_200steps/dr0.25_n40_000/output_0070.txt\"\n",
        "\n"
       ]
      },
      {
       "output_type": "stream",
       "stream": "stdout",
       "text": [
        "Running command \n",
        "    \"./measure_density_water_distance_from_matrix.x /home/fsund/Projects/flat_square_fracture02/10_05_measuring_every_100th_timestep_200steps/000071/mts0 4 4 4 0.000000 0.250000 40 flat_square_fracture02/10_05_measuring_every_100th_timestep_200steps/dr0.25_n40_000/output_0071.txt\"\n",
        "\n"
       ]
      },
      {
       "output_type": "stream",
       "stream": "stdout",
       "text": [
        "Running command \n",
        "    \"./measure_density_water_distance_from_matrix.x /home/fsund/Projects/flat_square_fracture02/10_05_measuring_every_100th_timestep_200steps/000072/mts0 4 4 4 0.000000 0.250000 40 flat_square_fracture02/10_05_measuring_every_100th_timestep_200steps/dr0.25_n40_000/output_0072.txt\"\n",
        "\n"
       ]
      },
      {
       "output_type": "stream",
       "stream": "stdout",
       "text": [
        "Running command \n",
        "    \"./measure_density_water_distance_from_matrix.x /home/fsund/Projects/flat_square_fracture02/10_05_measuring_every_100th_timestep_200steps/000073/mts0 4 4 4 0.000000 0.250000 40 flat_square_fracture02/10_05_measuring_every_100th_timestep_200steps/dr0.25_n40_000/output_0073.txt\"\n",
        "\n"
       ]
      },
      {
       "output_type": "stream",
       "stream": "stdout",
       "text": [
        "Running command \n",
        "    \"./measure_density_water_distance_from_matrix.x /home/fsund/Projects/flat_square_fracture02/10_05_measuring_every_100th_timestep_200steps/000074/mts0 4 4 4 0.000000 0.250000 40 flat_square_fracture02/10_05_measuring_every_100th_timestep_200steps/dr0.25_n40_000/output_0074.txt\"\n",
        "\n"
       ]
      },
      {
       "output_type": "stream",
       "stream": "stdout",
       "text": [
        "Running command \n",
        "    \"./measure_density_water_distance_from_matrix.x /home/fsund/Projects/flat_square_fracture02/10_05_measuring_every_100th_timestep_200steps/000075/mts0 4 4 4 0.000000 0.250000 40 flat_square_fracture02/10_05_measuring_every_100th_timestep_200steps/dr0.25_n40_000/output_0075.txt\"\n",
        "\n"
       ]
      },
      {
       "output_type": "stream",
       "stream": "stdout",
       "text": [
        "Running command \n",
        "    \"./measure_density_water_distance_from_matrix.x /home/fsund/Projects/flat_square_fracture02/10_05_measuring_every_100th_timestep_200steps/000076/mts0 4 4 4 0.000000 0.250000 40 flat_square_fracture02/10_05_measuring_every_100th_timestep_200steps/dr0.25_n40_000/output_0076.txt\"\n",
        "\n"
       ]
      },
      {
       "output_type": "stream",
       "stream": "stdout",
       "text": [
        "Running command \n",
        "    \"./measure_density_water_distance_from_matrix.x /home/fsund/Projects/flat_square_fracture02/10_05_measuring_every_100th_timestep_200steps/000077/mts0 4 4 4 0.000000 0.250000 40 flat_square_fracture02/10_05_measuring_every_100th_timestep_200steps/dr0.25_n40_000/output_0077.txt\"\n",
        "\n"
       ]
      },
      {
       "output_type": "stream",
       "stream": "stdout",
       "text": [
        "Running command \n",
        "    \"./measure_density_water_distance_from_matrix.x /home/fsund/Projects/flat_square_fracture02/10_05_measuring_every_100th_timestep_200steps/000078/mts0 4 4 4 0.000000 0.250000 40 flat_square_fracture02/10_05_measuring_every_100th_timestep_200steps/dr0.25_n40_000/output_0078.txt\"\n",
        "\n"
       ]
      },
      {
       "output_type": "stream",
       "stream": "stdout",
       "text": [
        "Running command \n",
        "    \"./measure_density_water_distance_from_matrix.x /home/fsund/Projects/flat_square_fracture02/10_05_measuring_every_100th_timestep_200steps/000079/mts0 4 4 4 0.000000 0.250000 40 flat_square_fracture02/10_05_measuring_every_100th_timestep_200steps/dr0.25_n40_000/output_0079.txt\"\n",
        "\n"
       ]
      },
      {
       "output_type": "stream",
       "stream": "stdout",
       "text": [
        "Running command \n",
        "    \"./measure_density_water_distance_from_matrix.x /home/fsund/Projects/flat_square_fracture02/10_05_measuring_every_100th_timestep_200steps/000080/mts0 4 4 4 0.000000 0.250000 40 flat_square_fracture02/10_05_measuring_every_100th_timestep_200steps/dr0.25_n40_000/output_0080.txt\"\n",
        "\n"
       ]
      },
      {
       "output_type": "stream",
       "stream": "stdout",
       "text": [
        "Running command \n",
        "    \"./measure_density_water_distance_from_matrix.x /home/fsund/Projects/flat_square_fracture02/10_05_measuring_every_100th_timestep_200steps/000081/mts0 4 4 4 0.000000 0.250000 40 flat_square_fracture02/10_05_measuring_every_100th_timestep_200steps/dr0.25_n40_000/output_0081.txt\"\n",
        "\n"
       ]
      },
      {
       "output_type": "stream",
       "stream": "stdout",
       "text": [
        "Running command \n",
        "    \"./measure_density_water_distance_from_matrix.x /home/fsund/Projects/flat_square_fracture02/10_05_measuring_every_100th_timestep_200steps/000082/mts0 4 4 4 0.000000 0.250000 40 flat_square_fracture02/10_05_measuring_every_100th_timestep_200steps/dr0.25_n40_000/output_0082.txt\"\n",
        "\n"
       ]
      },
      {
       "output_type": "stream",
       "stream": "stdout",
       "text": [
        "Running command \n",
        "    \"./measure_density_water_distance_from_matrix.x /home/fsund/Projects/flat_square_fracture02/10_05_measuring_every_100th_timestep_200steps/000083/mts0 4 4 4 0.000000 0.250000 40 flat_square_fracture02/10_05_measuring_every_100th_timestep_200steps/dr0.25_n40_000/output_0083.txt\"\n",
        "\n"
       ]
      },
      {
       "output_type": "stream",
       "stream": "stdout",
       "text": [
        "Running command \n",
        "    \"./measure_density_water_distance_from_matrix.x /home/fsund/Projects/flat_square_fracture02/10_05_measuring_every_100th_timestep_200steps/000084/mts0 4 4 4 0.000000 0.250000 40 flat_square_fracture02/10_05_measuring_every_100th_timestep_200steps/dr0.25_n40_000/output_0084.txt\"\n",
        "\n"
       ]
      },
      {
       "output_type": "stream",
       "stream": "stdout",
       "text": [
        "Running command \n",
        "    \"./measure_density_water_distance_from_matrix.x /home/fsund/Projects/flat_square_fracture02/10_05_measuring_every_100th_timestep_200steps/000085/mts0 4 4 4 0.000000 0.250000 40 flat_square_fracture02/10_05_measuring_every_100th_timestep_200steps/dr0.25_n40_000/output_0085.txt\"\n",
        "\n"
       ]
      },
      {
       "output_type": "stream",
       "stream": "stdout",
       "text": [
        "Running command \n",
        "    \"./measure_density_water_distance_from_matrix.x /home/fsund/Projects/flat_square_fracture02/10_05_measuring_every_100th_timestep_200steps/000086/mts0 4 4 4 0.000000 0.250000 40 flat_square_fracture02/10_05_measuring_every_100th_timestep_200steps/dr0.25_n40_000/output_0086.txt\"\n",
        "\n"
       ]
      },
      {
       "output_type": "stream",
       "stream": "stdout",
       "text": [
        "Running command \n",
        "    \"./measure_density_water_distance_from_matrix.x /home/fsund/Projects/flat_square_fracture02/10_05_measuring_every_100th_timestep_200steps/000087/mts0 4 4 4 0.000000 0.250000 40 flat_square_fracture02/10_05_measuring_every_100th_timestep_200steps/dr0.25_n40_000/output_0087.txt\"\n",
        "\n"
       ]
      },
      {
       "output_type": "stream",
       "stream": "stdout",
       "text": [
        "Running command \n",
        "    \"./measure_density_water_distance_from_matrix.x /home/fsund/Projects/flat_square_fracture02/10_05_measuring_every_100th_timestep_200steps/000088/mts0 4 4 4 0.000000 0.250000 40 flat_square_fracture02/10_05_measuring_every_100th_timestep_200steps/dr0.25_n40_000/output_0088.txt\"\n",
        "\n"
       ]
      },
      {
       "output_type": "stream",
       "stream": "stdout",
       "text": [
        "Running command \n",
        "    \"./measure_density_water_distance_from_matrix.x /home/fsund/Projects/flat_square_fracture02/10_05_measuring_every_100th_timestep_200steps/000089/mts0 4 4 4 0.000000 0.250000 40 flat_square_fracture02/10_05_measuring_every_100th_timestep_200steps/dr0.25_n40_000/output_0089.txt\"\n",
        "\n"
       ]
      },
      {
       "output_type": "stream",
       "stream": "stdout",
       "text": [
        "Running command \n",
        "    \"./measure_density_water_distance_from_matrix.x /home/fsund/Projects/flat_square_fracture02/10_05_measuring_every_100th_timestep_200steps/000090/mts0 4 4 4 0.000000 0.250000 40 flat_square_fracture02/10_05_measuring_every_100th_timestep_200steps/dr0.25_n40_000/output_0090.txt\"\n",
        "\n"
       ]
      },
      {
       "output_type": "stream",
       "stream": "stdout",
       "text": [
        "Running command \n",
        "    \"./measure_density_water_distance_from_matrix.x /home/fsund/Projects/flat_square_fracture02/10_05_measuring_every_100th_timestep_200steps/000091/mts0 4 4 4 0.000000 0.250000 40 flat_square_fracture02/10_05_measuring_every_100th_timestep_200steps/dr0.25_n40_000/output_0091.txt\"\n",
        "\n"
       ]
      },
      {
       "output_type": "stream",
       "stream": "stdout",
       "text": [
        "Running command \n",
        "    \"./measure_density_water_distance_from_matrix.x /home/fsund/Projects/flat_square_fracture02/10_05_measuring_every_100th_timestep_200steps/000092/mts0 4 4 4 0.000000 0.250000 40 flat_square_fracture02/10_05_measuring_every_100th_timestep_200steps/dr0.25_n40_000/output_0092.txt\"\n",
        "\n"
       ]
      },
      {
       "output_type": "stream",
       "stream": "stdout",
       "text": [
        "Running command \n",
        "    \"./measure_density_water_distance_from_matrix.x /home/fsund/Projects/flat_square_fracture02/10_05_measuring_every_100th_timestep_200steps/000093/mts0 4 4 4 0.000000 0.250000 40 flat_square_fracture02/10_05_measuring_every_100th_timestep_200steps/dr0.25_n40_000/output_0093.txt\"\n",
        "\n"
       ]
      },
      {
       "output_type": "stream",
       "stream": "stdout",
       "text": [
        "Running command \n",
        "    \"./measure_density_water_distance_from_matrix.x /home/fsund/Projects/flat_square_fracture02/10_05_measuring_every_100th_timestep_200steps/000094/mts0 4 4 4 0.000000 0.250000 40 flat_square_fracture02/10_05_measuring_every_100th_timestep_200steps/dr0.25_n40_000/output_0094.txt\"\n",
        "\n"
       ]
      },
      {
       "output_type": "stream",
       "stream": "stdout",
       "text": [
        "Running command \n",
        "    \"./measure_density_water_distance_from_matrix.x /home/fsund/Projects/flat_square_fracture02/10_05_measuring_every_100th_timestep_200steps/000095/mts0 4 4 4 0.000000 0.250000 40 flat_square_fracture02/10_05_measuring_every_100th_timestep_200steps/dr0.25_n40_000/output_0095.txt\"\n",
        "\n"
       ]
      },
      {
       "output_type": "stream",
       "stream": "stdout",
       "text": [
        "Running command \n",
        "    \"./measure_density_water_distance_from_matrix.x /home/fsund/Projects/flat_square_fracture02/10_05_measuring_every_100th_timestep_200steps/000096/mts0 4 4 4 0.000000 0.250000 40 flat_square_fracture02/10_05_measuring_every_100th_timestep_200steps/dr0.25_n40_000/output_0096.txt\"\n",
        "\n"
       ]
      },
      {
       "output_type": "stream",
       "stream": "stdout",
       "text": [
        "Running command \n",
        "    \"./measure_density_water_distance_from_matrix.x /home/fsund/Projects/flat_square_fracture02/10_05_measuring_every_100th_timestep_200steps/000097/mts0 4 4 4 0.000000 0.250000 40 flat_square_fracture02/10_05_measuring_every_100th_timestep_200steps/dr0.25_n40_000/output_0097.txt\"\n",
        "\n"
       ]
      },
      {
       "output_type": "stream",
       "stream": "stdout",
       "text": [
        "Running command \n",
        "    \"./measure_density_water_distance_from_matrix.x /home/fsund/Projects/flat_square_fracture02/10_05_measuring_every_100th_timestep_200steps/000098/mts0 4 4 4 0.000000 0.250000 40 flat_square_fracture02/10_05_measuring_every_100th_timestep_200steps/dr0.25_n40_000/output_0098.txt\"\n",
        "\n"
       ]
      },
      {
       "output_type": "stream",
       "stream": "stdout",
       "text": [
        "Running command \n",
        "    \"./measure_density_water_distance_from_matrix.x /home/fsund/Projects/flat_square_fracture02/10_05_measuring_every_100th_timestep_200steps/000099/mts0 4 4 4 0.000000 0.250000 40 flat_square_fracture02/10_05_measuring_every_100th_timestep_200steps/dr0.25_n40_000/output_0099.txt\"\n",
        "\n"
       ]
      },
      {
       "output_type": "stream",
       "stream": "stdout",
       "text": [
        "Running command \n",
        "    \"./measure_density_water_distance_from_matrix.x /home/fsund/Projects/flat_square_fracture02/10_05_measuring_every_100th_timestep_200steps/000100/mts0 4 4 4 0.000000 0.250000 40 flat_square_fracture02/10_05_measuring_every_100th_timestep_200steps/dr0.25_n40_000/output_0100.txt\"\n",
        "\n"
       ]
      },
      {
       "output_type": "stream",
       "stream": "stdout",
       "text": [
        "Running command \n",
        "    \"./measure_density_water_distance_from_matrix.x /home/fsund/Projects/flat_square_fracture02/10_05_measuring_every_100th_timestep_200steps/000101/mts0 4 4 4 0.000000 0.250000 40 flat_square_fracture02/10_05_measuring_every_100th_timestep_200steps/dr0.25_n40_000/output_0101.txt\"\n",
        "\n"
       ]
      },
      {
       "output_type": "stream",
       "stream": "stdout",
       "text": [
        "Running command \n",
        "    \"./measure_density_water_distance_from_matrix.x /home/fsund/Projects/flat_square_fracture02/10_05_measuring_every_100th_timestep_200steps/000102/mts0 4 4 4 0.000000 0.250000 40 flat_square_fracture02/10_05_measuring_every_100th_timestep_200steps/dr0.25_n40_000/output_0102.txt\"\n",
        "\n"
       ]
      },
      {
       "output_type": "stream",
       "stream": "stdout",
       "text": [
        "Running command \n",
        "    \"./measure_density_water_distance_from_matrix.x /home/fsund/Projects/flat_square_fracture02/10_05_measuring_every_100th_timestep_200steps/000103/mts0 4 4 4 0.000000 0.250000 40 flat_square_fracture02/10_05_measuring_every_100th_timestep_200steps/dr0.25_n40_000/output_0103.txt\"\n",
        "\n"
       ]
      },
      {
       "output_type": "stream",
       "stream": "stdout",
       "text": [
        "Running command \n",
        "    \"./measure_density_water_distance_from_matrix.x /home/fsund/Projects/flat_square_fracture02/10_05_measuring_every_100th_timestep_200steps/000104/mts0 4 4 4 0.000000 0.250000 40 flat_square_fracture02/10_05_measuring_every_100th_timestep_200steps/dr0.25_n40_000/output_0104.txt\"\n",
        "\n"
       ]
      },
      {
       "output_type": "stream",
       "stream": "stdout",
       "text": [
        "Running command \n",
        "    \"./measure_density_water_distance_from_matrix.x /home/fsund/Projects/flat_square_fracture02/10_05_measuring_every_100th_timestep_200steps/000105/mts0 4 4 4 0.000000 0.250000 40 flat_square_fracture02/10_05_measuring_every_100th_timestep_200steps/dr0.25_n40_000/output_0105.txt\"\n",
        "\n"
       ]
      },
      {
       "output_type": "stream",
       "stream": "stdout",
       "text": [
        "Running command \n",
        "    \"./measure_density_water_distance_from_matrix.x /home/fsund/Projects/flat_square_fracture02/10_05_measuring_every_100th_timestep_200steps/000106/mts0 4 4 4 0.000000 0.250000 40 flat_square_fracture02/10_05_measuring_every_100th_timestep_200steps/dr0.25_n40_000/output_0106.txt\"\n",
        "\n"
       ]
      },
      {
       "output_type": "stream",
       "stream": "stdout",
       "text": [
        "Running command \n",
        "    \"./measure_density_water_distance_from_matrix.x /home/fsund/Projects/flat_square_fracture02/10_05_measuring_every_100th_timestep_200steps/000107/mts0 4 4 4 0.000000 0.250000 40 flat_square_fracture02/10_05_measuring_every_100th_timestep_200steps/dr0.25_n40_000/output_0107.txt\"\n",
        "\n"
       ]
      },
      {
       "output_type": "stream",
       "stream": "stdout",
       "text": [
        "Running command \n",
        "    \"./measure_density_water_distance_from_matrix.x /home/fsund/Projects/flat_square_fracture02/10_05_measuring_every_100th_timestep_200steps/000108/mts0 4 4 4 0.000000 0.250000 40 flat_square_fracture02/10_05_measuring_every_100th_timestep_200steps/dr0.25_n40_000/output_0108.txt\"\n",
        "\n"
       ]
      },
      {
       "output_type": "stream",
       "stream": "stdout",
       "text": [
        "Running command \n",
        "    \"./measure_density_water_distance_from_matrix.x /home/fsund/Projects/flat_square_fracture02/10_05_measuring_every_100th_timestep_200steps/000109/mts0 4 4 4 0.000000 0.250000 40 flat_square_fracture02/10_05_measuring_every_100th_timestep_200steps/dr0.25_n40_000/output_0109.txt\"\n",
        "\n"
       ]
      },
      {
       "output_type": "stream",
       "stream": "stdout",
       "text": [
        "Running command \n",
        "    \"./measure_density_water_distance_from_matrix.x /home/fsund/Projects/flat_square_fracture02/10_05_measuring_every_100th_timestep_200steps/000110/mts0 4 4 4 0.000000 0.250000 40 flat_square_fracture02/10_05_measuring_every_100th_timestep_200steps/dr0.25_n40_000/output_0110.txt\"\n",
        "\n"
       ]
      },
      {
       "output_type": "stream",
       "stream": "stdout",
       "text": [
        "Running command \n",
        "    \"./measure_density_water_distance_from_matrix.x /home/fsund/Projects/flat_square_fracture02/10_05_measuring_every_100th_timestep_200steps/000111/mts0 4 4 4 0.000000 0.250000 40 flat_square_fracture02/10_05_measuring_every_100th_timestep_200steps/dr0.25_n40_000/output_0111.txt\"\n",
        "\n"
       ]
      },
      {
       "output_type": "stream",
       "stream": "stdout",
       "text": [
        "Running command \n",
        "    \"./measure_density_water_distance_from_matrix.x /home/fsund/Projects/flat_square_fracture02/10_05_measuring_every_100th_timestep_200steps/000112/mts0 4 4 4 0.000000 0.250000 40 flat_square_fracture02/10_05_measuring_every_100th_timestep_200steps/dr0.25_n40_000/output_0112.txt\"\n",
        "\n"
       ]
      },
      {
       "output_type": "stream",
       "stream": "stdout",
       "text": [
        "Running command \n",
        "    \"./measure_density_water_distance_from_matrix.x /home/fsund/Projects/flat_square_fracture02/10_05_measuring_every_100th_timestep_200steps/000113/mts0 4 4 4 0.000000 0.250000 40 flat_square_fracture02/10_05_measuring_every_100th_timestep_200steps/dr0.25_n40_000/output_0113.txt\"\n",
        "\n"
       ]
      },
      {
       "output_type": "stream",
       "stream": "stdout",
       "text": [
        "Running command \n",
        "    \"./measure_density_water_distance_from_matrix.x /home/fsund/Projects/flat_square_fracture02/10_05_measuring_every_100th_timestep_200steps/000114/mts0 4 4 4 0.000000 0.250000 40 flat_square_fracture02/10_05_measuring_every_100th_timestep_200steps/dr0.25_n40_000/output_0114.txt\"\n",
        "\n"
       ]
      },
      {
       "output_type": "stream",
       "stream": "stdout",
       "text": [
        "Running command \n",
        "    \"./measure_density_water_distance_from_matrix.x /home/fsund/Projects/flat_square_fracture02/10_05_measuring_every_100th_timestep_200steps/000115/mts0 4 4 4 0.000000 0.250000 40 flat_square_fracture02/10_05_measuring_every_100th_timestep_200steps/dr0.25_n40_000/output_0115.txt\"\n",
        "\n"
       ]
      },
      {
       "output_type": "stream",
       "stream": "stdout",
       "text": [
        "Running command \n",
        "    \"./measure_density_water_distance_from_matrix.x /home/fsund/Projects/flat_square_fracture02/10_05_measuring_every_100th_timestep_200steps/000116/mts0 4 4 4 0.000000 0.250000 40 flat_square_fracture02/10_05_measuring_every_100th_timestep_200steps/dr0.25_n40_000/output_0116.txt\"\n",
        "\n"
       ]
      },
      {
       "output_type": "stream",
       "stream": "stdout",
       "text": [
        "Running command \n",
        "    \"./measure_density_water_distance_from_matrix.x /home/fsund/Projects/flat_square_fracture02/10_05_measuring_every_100th_timestep_200steps/000117/mts0 4 4 4 0.000000 0.250000 40 flat_square_fracture02/10_05_measuring_every_100th_timestep_200steps/dr0.25_n40_000/output_0117.txt\"\n",
        "\n"
       ]
      },
      {
       "output_type": "stream",
       "stream": "stdout",
       "text": [
        "Running command \n",
        "    \"./measure_density_water_distance_from_matrix.x /home/fsund/Projects/flat_square_fracture02/10_05_measuring_every_100th_timestep_200steps/000118/mts0 4 4 4 0.000000 0.250000 40 flat_square_fracture02/10_05_measuring_every_100th_timestep_200steps/dr0.25_n40_000/output_0118.txt\"\n",
        "\n"
       ]
      },
      {
       "output_type": "stream",
       "stream": "stdout",
       "text": [
        "Running command \n",
        "    \"./measure_density_water_distance_from_matrix.x /home/fsund/Projects/flat_square_fracture02/10_05_measuring_every_100th_timestep_200steps/000119/mts0 4 4 4 0.000000 0.250000 40 flat_square_fracture02/10_05_measuring_every_100th_timestep_200steps/dr0.25_n40_000/output_0119.txt\"\n",
        "\n"
       ]
      },
      {
       "output_type": "stream",
       "stream": "stdout",
       "text": [
        "Running command \n",
        "    \"./measure_density_water_distance_from_matrix.x /home/fsund/Projects/flat_square_fracture02/10_05_measuring_every_100th_timestep_200steps/000120/mts0 4 4 4 0.000000 0.250000 40 flat_square_fracture02/10_05_measuring_every_100th_timestep_200steps/dr0.25_n40_000/output_0120.txt\"\n",
        "\n"
       ]
      },
      {
       "output_type": "stream",
       "stream": "stdout",
       "text": [
        "Running command \n",
        "    \"./measure_density_water_distance_from_matrix.x /home/fsund/Projects/flat_square_fracture02/10_05_measuring_every_100th_timestep_200steps/000121/mts0 4 4 4 0.000000 0.250000 40 flat_square_fracture02/10_05_measuring_every_100th_timestep_200steps/dr0.25_n40_000/output_0121.txt\"\n",
        "\n"
       ]
      },
      {
       "output_type": "stream",
       "stream": "stdout",
       "text": [
        "Running command \n",
        "    \"./measure_density_water_distance_from_matrix.x /home/fsund/Projects/flat_square_fracture02/10_05_measuring_every_100th_timestep_200steps/000122/mts0 4 4 4 0.000000 0.250000 40 flat_square_fracture02/10_05_measuring_every_100th_timestep_200steps/dr0.25_n40_000/output_0122.txt\"\n",
        "\n"
       ]
      },
      {
       "output_type": "stream",
       "stream": "stdout",
       "text": [
        "Running command \n",
        "    \"./measure_density_water_distance_from_matrix.x /home/fsund/Projects/flat_square_fracture02/10_05_measuring_every_100th_timestep_200steps/000123/mts0 4 4 4 0.000000 0.250000 40 flat_square_fracture02/10_05_measuring_every_100th_timestep_200steps/dr0.25_n40_000/output_0123.txt\"\n",
        "\n"
       ]
      },
      {
       "output_type": "stream",
       "stream": "stdout",
       "text": [
        "Running command \n",
        "    \"./measure_density_water_distance_from_matrix.x /home/fsund/Projects/flat_square_fracture02/10_05_measuring_every_100th_timestep_200steps/000124/mts0 4 4 4 0.000000 0.250000 40 flat_square_fracture02/10_05_measuring_every_100th_timestep_200steps/dr0.25_n40_000/output_0124.txt\"\n",
        "\n"
       ]
      },
      {
       "output_type": "stream",
       "stream": "stdout",
       "text": [
        "Running command \n",
        "    \"./measure_density_water_distance_from_matrix.x /home/fsund/Projects/flat_square_fracture02/10_05_measuring_every_100th_timestep_200steps/000125/mts0 4 4 4 0.000000 0.250000 40 flat_square_fracture02/10_05_measuring_every_100th_timestep_200steps/dr0.25_n40_000/output_0125.txt\"\n",
        "\n"
       ]
      },
      {
       "output_type": "stream",
       "stream": "stdout",
       "text": [
        "Running command \n",
        "    \"./measure_density_water_distance_from_matrix.x /home/fsund/Projects/flat_square_fracture02/10_05_measuring_every_100th_timestep_200steps/000126/mts0 4 4 4 0.000000 0.250000 40 flat_square_fracture02/10_05_measuring_every_100th_timestep_200steps/dr0.25_n40_000/output_0126.txt\"\n",
        "\n"
       ]
      },
      {
       "output_type": "stream",
       "stream": "stdout",
       "text": [
        "Running command \n",
        "    \"./measure_density_water_distance_from_matrix.x /home/fsund/Projects/flat_square_fracture02/10_05_measuring_every_100th_timestep_200steps/000127/mts0 4 4 4 0.000000 0.250000 40 flat_square_fracture02/10_05_measuring_every_100th_timestep_200steps/dr0.25_n40_000/output_0127.txt\"\n",
        "\n"
       ]
      },
      {
       "output_type": "stream",
       "stream": "stdout",
       "text": [
        "Running command \n",
        "    \"./measure_density_water_distance_from_matrix.x /home/fsund/Projects/flat_square_fracture02/10_05_measuring_every_100th_timestep_200steps/000128/mts0 4 4 4 0.000000 0.250000 40 flat_square_fracture02/10_05_measuring_every_100th_timestep_200steps/dr0.25_n40_000/output_0128.txt\"\n",
        "\n"
       ]
      },
      {
       "output_type": "stream",
       "stream": "stdout",
       "text": [
        "Running command \n",
        "    \"./measure_density_water_distance_from_matrix.x /home/fsund/Projects/flat_square_fracture02/10_05_measuring_every_100th_timestep_200steps/000129/mts0 4 4 4 0.000000 0.250000 40 flat_square_fracture02/10_05_measuring_every_100th_timestep_200steps/dr0.25_n40_000/output_0129.txt\"\n",
        "\n"
       ]
      },
      {
       "output_type": "stream",
       "stream": "stdout",
       "text": [
        "Running command \n",
        "    \"./measure_density_water_distance_from_matrix.x /home/fsund/Projects/flat_square_fracture02/10_05_measuring_every_100th_timestep_200steps/000130/mts0 4 4 4 0.000000 0.250000 40 flat_square_fracture02/10_05_measuring_every_100th_timestep_200steps/dr0.25_n40_000/output_0130.txt\"\n",
        "\n"
       ]
      },
      {
       "output_type": "stream",
       "stream": "stdout",
       "text": [
        "Running command \n",
        "    \"./measure_density_water_distance_from_matrix.x /home/fsund/Projects/flat_square_fracture02/10_05_measuring_every_100th_timestep_200steps/000131/mts0 4 4 4 0.000000 0.250000 40 flat_square_fracture02/10_05_measuring_every_100th_timestep_200steps/dr0.25_n40_000/output_0131.txt\"\n",
        "\n"
       ]
      },
      {
       "output_type": "stream",
       "stream": "stdout",
       "text": [
        "Running command \n",
        "    \"./measure_density_water_distance_from_matrix.x /home/fsund/Projects/flat_square_fracture02/10_05_measuring_every_100th_timestep_200steps/000132/mts0 4 4 4 0.000000 0.250000 40 flat_square_fracture02/10_05_measuring_every_100th_timestep_200steps/dr0.25_n40_000/output_0132.txt\"\n",
        "\n"
       ]
      },
      {
       "output_type": "stream",
       "stream": "stdout",
       "text": [
        "Running command \n",
        "    \"./measure_density_water_distance_from_matrix.x /home/fsund/Projects/flat_square_fracture02/10_05_measuring_every_100th_timestep_200steps/000133/mts0 4 4 4 0.000000 0.250000 40 flat_square_fracture02/10_05_measuring_every_100th_timestep_200steps/dr0.25_n40_000/output_0133.txt\"\n",
        "\n"
       ]
      },
      {
       "output_type": "stream",
       "stream": "stdout",
       "text": [
        "Running command \n",
        "    \"./measure_density_water_distance_from_matrix.x /home/fsund/Projects/flat_square_fracture02/10_05_measuring_every_100th_timestep_200steps/000134/mts0 4 4 4 0.000000 0.250000 40 flat_square_fracture02/10_05_measuring_every_100th_timestep_200steps/dr0.25_n40_000/output_0134.txt\"\n",
        "\n"
       ]
      },
      {
       "output_type": "stream",
       "stream": "stdout",
       "text": [
        "Running command \n",
        "    \"./measure_density_water_distance_from_matrix.x /home/fsund/Projects/flat_square_fracture02/10_05_measuring_every_100th_timestep_200steps/000135/mts0 4 4 4 0.000000 0.250000 40 flat_square_fracture02/10_05_measuring_every_100th_timestep_200steps/dr0.25_n40_000/output_0135.txt\"\n",
        "\n"
       ]
      },
      {
       "output_type": "stream",
       "stream": "stdout",
       "text": [
        "Running command \n",
        "    \"./measure_density_water_distance_from_matrix.x /home/fsund/Projects/flat_square_fracture02/10_05_measuring_every_100th_timestep_200steps/000136/mts0 4 4 4 0.000000 0.250000 40 flat_square_fracture02/10_05_measuring_every_100th_timestep_200steps/dr0.25_n40_000/output_0136.txt\"\n",
        "\n"
       ]
      },
      {
       "output_type": "stream",
       "stream": "stdout",
       "text": [
        "Running command \n",
        "    \"./measure_density_water_distance_from_matrix.x /home/fsund/Projects/flat_square_fracture02/10_05_measuring_every_100th_timestep_200steps/000137/mts0 4 4 4 0.000000 0.250000 40 flat_square_fracture02/10_05_measuring_every_100th_timestep_200steps/dr0.25_n40_000/output_0137.txt\"\n",
        "\n"
       ]
      },
      {
       "output_type": "stream",
       "stream": "stdout",
       "text": [
        "Running command \n",
        "    \"./measure_density_water_distance_from_matrix.x /home/fsund/Projects/flat_square_fracture02/10_05_measuring_every_100th_timestep_200steps/000138/mts0 4 4 4 0.000000 0.250000 40 flat_square_fracture02/10_05_measuring_every_100th_timestep_200steps/dr0.25_n40_000/output_0138.txt\"\n",
        "\n"
       ]
      },
      {
       "output_type": "stream",
       "stream": "stdout",
       "text": [
        "Running command \n",
        "    \"./measure_density_water_distance_from_matrix.x /home/fsund/Projects/flat_square_fracture02/10_05_measuring_every_100th_timestep_200steps/000139/mts0 4 4 4 0.000000 0.250000 40 flat_square_fracture02/10_05_measuring_every_100th_timestep_200steps/dr0.25_n40_000/output_0139.txt\"\n",
        "\n"
       ]
      },
      {
       "output_type": "stream",
       "stream": "stdout",
       "text": [
        "Running command \n",
        "    \"./measure_density_water_distance_from_matrix.x /home/fsund/Projects/flat_square_fracture02/10_05_measuring_every_100th_timestep_200steps/000140/mts0 4 4 4 0.000000 0.250000 40 flat_square_fracture02/10_05_measuring_every_100th_timestep_200steps/dr0.25_n40_000/output_0140.txt\"\n",
        "\n"
       ]
      },
      {
       "output_type": "stream",
       "stream": "stdout",
       "text": [
        "Running command \n",
        "    \"./measure_density_water_distance_from_matrix.x /home/fsund/Projects/flat_square_fracture02/10_05_measuring_every_100th_timestep_200steps/000141/mts0 4 4 4 0.000000 0.250000 40 flat_square_fracture02/10_05_measuring_every_100th_timestep_200steps/dr0.25_n40_000/output_0141.txt\"\n",
        "\n"
       ]
      },
      {
       "output_type": "stream",
       "stream": "stdout",
       "text": [
        "Running command \n",
        "    \"./measure_density_water_distance_from_matrix.x /home/fsund/Projects/flat_square_fracture02/10_05_measuring_every_100th_timestep_200steps/000142/mts0 4 4 4 0.000000 0.250000 40 flat_square_fracture02/10_05_measuring_every_100th_timestep_200steps/dr0.25_n40_000/output_0142.txt\"\n",
        "\n"
       ]
      },
      {
       "output_type": "stream",
       "stream": "stdout",
       "text": [
        "Running command \n",
        "    \"./measure_density_water_distance_from_matrix.x /home/fsund/Projects/flat_square_fracture02/10_05_measuring_every_100th_timestep_200steps/000143/mts0 4 4 4 0.000000 0.250000 40 flat_square_fracture02/10_05_measuring_every_100th_timestep_200steps/dr0.25_n40_000/output_0143.txt\"\n",
        "\n"
       ]
      },
      {
       "output_type": "stream",
       "stream": "stdout",
       "text": [
        "Running command \n",
        "    \"./measure_density_water_distance_from_matrix.x /home/fsund/Projects/flat_square_fracture02/10_05_measuring_every_100th_timestep_200steps/000144/mts0 4 4 4 0.000000 0.250000 40 flat_square_fracture02/10_05_measuring_every_100th_timestep_200steps/dr0.25_n40_000/output_0144.txt\"\n",
        "\n"
       ]
      },
      {
       "output_type": "stream",
       "stream": "stdout",
       "text": [
        "Running command \n",
        "    \"./measure_density_water_distance_from_matrix.x /home/fsund/Projects/flat_square_fracture02/10_05_measuring_every_100th_timestep_200steps/000145/mts0 4 4 4 0.000000 0.250000 40 flat_square_fracture02/10_05_measuring_every_100th_timestep_200steps/dr0.25_n40_000/output_0145.txt\"\n",
        "\n"
       ]
      },
      {
       "output_type": "stream",
       "stream": "stdout",
       "text": [
        "Running command \n",
        "    \"./measure_density_water_distance_from_matrix.x /home/fsund/Projects/flat_square_fracture02/10_05_measuring_every_100th_timestep_200steps/000146/mts0 4 4 4 0.000000 0.250000 40 flat_square_fracture02/10_05_measuring_every_100th_timestep_200steps/dr0.25_n40_000/output_0146.txt\"\n",
        "\n"
       ]
      },
      {
       "output_type": "stream",
       "stream": "stdout",
       "text": [
        "Running command \n",
        "    \"./measure_density_water_distance_from_matrix.x /home/fsund/Projects/flat_square_fracture02/10_05_measuring_every_100th_timestep_200steps/000147/mts0 4 4 4 0.000000 0.250000 40 flat_square_fracture02/10_05_measuring_every_100th_timestep_200steps/dr0.25_n40_000/output_0147.txt\"\n",
        "\n"
       ]
      },
      {
       "output_type": "stream",
       "stream": "stdout",
       "text": [
        "Running command \n",
        "    \"./measure_density_water_distance_from_matrix.x /home/fsund/Projects/flat_square_fracture02/10_05_measuring_every_100th_timestep_200steps/000148/mts0 4 4 4 0.000000 0.250000 40 flat_square_fracture02/10_05_measuring_every_100th_timestep_200steps/dr0.25_n40_000/output_0148.txt\"\n",
        "\n"
       ]
      },
      {
       "output_type": "stream",
       "stream": "stdout",
       "text": [
        "Running command \n",
        "    \"./measure_density_water_distance_from_matrix.x /home/fsund/Projects/flat_square_fracture02/10_05_measuring_every_100th_timestep_200steps/000149/mts0 4 4 4 0.000000 0.250000 40 flat_square_fracture02/10_05_measuring_every_100th_timestep_200steps/dr0.25_n40_000/output_0149.txt\"\n",
        "\n"
       ]
      },
      {
       "output_type": "stream",
       "stream": "stdout",
       "text": [
        "Running command \n",
        "    \"./measure_density_water_distance_from_matrix.x /home/fsund/Projects/flat_square_fracture02/10_05_measuring_every_100th_timestep_200steps/000150/mts0 4 4 4 0.000000 0.250000 40 flat_square_fracture02/10_05_measuring_every_100th_timestep_200steps/dr0.25_n40_000/output_0150.txt\"\n",
        "\n"
       ]
      },
      {
       "output_type": "stream",
       "stream": "stdout",
       "text": [
        "Running command \n",
        "    \"./measure_density_water_distance_from_matrix.x /home/fsund/Projects/flat_square_fracture02/10_05_measuring_every_100th_timestep_200steps/000151/mts0 4 4 4 0.000000 0.250000 40 flat_square_fracture02/10_05_measuring_every_100th_timestep_200steps/dr0.25_n40_000/output_0151.txt\"\n",
        "\n"
       ]
      },
      {
       "output_type": "stream",
       "stream": "stdout",
       "text": [
        "Running command \n",
        "    \"./measure_density_water_distance_from_matrix.x /home/fsund/Projects/flat_square_fracture02/10_05_measuring_every_100th_timestep_200steps/000152/mts0 4 4 4 0.000000 0.250000 40 flat_square_fracture02/10_05_measuring_every_100th_timestep_200steps/dr0.25_n40_000/output_0152.txt\"\n",
        "\n"
       ]
      },
      {
       "output_type": "stream",
       "stream": "stdout",
       "text": [
        "Running command \n",
        "    \"./measure_density_water_distance_from_matrix.x /home/fsund/Projects/flat_square_fracture02/10_05_measuring_every_100th_timestep_200steps/000153/mts0 4 4 4 0.000000 0.250000 40 flat_square_fracture02/10_05_measuring_every_100th_timestep_200steps/dr0.25_n40_000/output_0153.txt\"\n",
        "\n"
       ]
      },
      {
       "output_type": "stream",
       "stream": "stdout",
       "text": [
        "Running command \n",
        "    \"./measure_density_water_distance_from_matrix.x /home/fsund/Projects/flat_square_fracture02/10_05_measuring_every_100th_timestep_200steps/000154/mts0 4 4 4 0.000000 0.250000 40 flat_square_fracture02/10_05_measuring_every_100th_timestep_200steps/dr0.25_n40_000/output_0154.txt\"\n",
        "\n"
       ]
      },
      {
       "output_type": "stream",
       "stream": "stdout",
       "text": [
        "Running command \n",
        "    \"./measure_density_water_distance_from_matrix.x /home/fsund/Projects/flat_square_fracture02/10_05_measuring_every_100th_timestep_200steps/000155/mts0 4 4 4 0.000000 0.250000 40 flat_square_fracture02/10_05_measuring_every_100th_timestep_200steps/dr0.25_n40_000/output_0155.txt\"\n",
        "\n"
       ]
      },
      {
       "output_type": "stream",
       "stream": "stdout",
       "text": [
        "Running command \n",
        "    \"./measure_density_water_distance_from_matrix.x /home/fsund/Projects/flat_square_fracture02/10_05_measuring_every_100th_timestep_200steps/000156/mts0 4 4 4 0.000000 0.250000 40 flat_square_fracture02/10_05_measuring_every_100th_timestep_200steps/dr0.25_n40_000/output_0156.txt\"\n",
        "\n"
       ]
      },
      {
       "output_type": "stream",
       "stream": "stdout",
       "text": [
        "Running command \n",
        "    \"./measure_density_water_distance_from_matrix.x /home/fsund/Projects/flat_square_fracture02/10_05_measuring_every_100th_timestep_200steps/000157/mts0 4 4 4 0.000000 0.250000 40 flat_square_fracture02/10_05_measuring_every_100th_timestep_200steps/dr0.25_n40_000/output_0157.txt\"\n",
        "\n"
       ]
      },
      {
       "output_type": "stream",
       "stream": "stdout",
       "text": [
        "Running command \n",
        "    \"./measure_density_water_distance_from_matrix.x /home/fsund/Projects/flat_square_fracture02/10_05_measuring_every_100th_timestep_200steps/000158/mts0 4 4 4 0.000000 0.250000 40 flat_square_fracture02/10_05_measuring_every_100th_timestep_200steps/dr0.25_n40_000/output_0158.txt\"\n",
        "\n"
       ]
      },
      {
       "output_type": "stream",
       "stream": "stdout",
       "text": [
        "Running command \n",
        "    \"./measure_density_water_distance_from_matrix.x /home/fsund/Projects/flat_square_fracture02/10_05_measuring_every_100th_timestep_200steps/000159/mts0 4 4 4 0.000000 0.250000 40 flat_square_fracture02/10_05_measuring_every_100th_timestep_200steps/dr0.25_n40_000/output_0159.txt\"\n",
        "\n"
       ]
      },
      {
       "output_type": "stream",
       "stream": "stdout",
       "text": [
        "Running command \n",
        "    \"./measure_density_water_distance_from_matrix.x /home/fsund/Projects/flat_square_fracture02/10_05_measuring_every_100th_timestep_200steps/000160/mts0 4 4 4 0.000000 0.250000 40 flat_square_fracture02/10_05_measuring_every_100th_timestep_200steps/dr0.25_n40_000/output_0160.txt\"\n",
        "\n"
       ]
      },
      {
       "output_type": "stream",
       "stream": "stdout",
       "text": [
        "Running command \n",
        "    \"./measure_density_water_distance_from_matrix.x /home/fsund/Projects/flat_square_fracture02/10_05_measuring_every_100th_timestep_200steps/000161/mts0 4 4 4 0.000000 0.250000 40 flat_square_fracture02/10_05_measuring_every_100th_timestep_200steps/dr0.25_n40_000/output_0161.txt\"\n",
        "\n"
       ]
      },
      {
       "output_type": "stream",
       "stream": "stdout",
       "text": [
        "Running command \n",
        "    \"./measure_density_water_distance_from_matrix.x /home/fsund/Projects/flat_square_fracture02/10_05_measuring_every_100th_timestep_200steps/000162/mts0 4 4 4 0.000000 0.250000 40 flat_square_fracture02/10_05_measuring_every_100th_timestep_200steps/dr0.25_n40_000/output_0162.txt\"\n",
        "\n"
       ]
      },
      {
       "output_type": "stream",
       "stream": "stdout",
       "text": [
        "Running command \n",
        "    \"./measure_density_water_distance_from_matrix.x /home/fsund/Projects/flat_square_fracture02/10_05_measuring_every_100th_timestep_200steps/000163/mts0 4 4 4 0.000000 0.250000 40 flat_square_fracture02/10_05_measuring_every_100th_timestep_200steps/dr0.25_n40_000/output_0163.txt\"\n",
        "\n"
       ]
      },
      {
       "output_type": "stream",
       "stream": "stdout",
       "text": [
        "Running command \n",
        "    \"./measure_density_water_distance_from_matrix.x /home/fsund/Projects/flat_square_fracture02/10_05_measuring_every_100th_timestep_200steps/000164/mts0 4 4 4 0.000000 0.250000 40 flat_square_fracture02/10_05_measuring_every_100th_timestep_200steps/dr0.25_n40_000/output_0164.txt\"\n",
        "\n"
       ]
      },
      {
       "output_type": "stream",
       "stream": "stdout",
       "text": [
        "Running command \n",
        "    \"./measure_density_water_distance_from_matrix.x /home/fsund/Projects/flat_square_fracture02/10_05_measuring_every_100th_timestep_200steps/000165/mts0 4 4 4 0.000000 0.250000 40 flat_square_fracture02/10_05_measuring_every_100th_timestep_200steps/dr0.25_n40_000/output_0165.txt\"\n",
        "\n"
       ]
      },
      {
       "output_type": "stream",
       "stream": "stdout",
       "text": [
        "Running command \n",
        "    \"./measure_density_water_distance_from_matrix.x /home/fsund/Projects/flat_square_fracture02/10_05_measuring_every_100th_timestep_200steps/000166/mts0 4 4 4 0.000000 0.250000 40 flat_square_fracture02/10_05_measuring_every_100th_timestep_200steps/dr0.25_n40_000/output_0166.txt\"\n",
        "\n"
       ]
      },
      {
       "output_type": "stream",
       "stream": "stdout",
       "text": [
        "Running command \n",
        "    \"./measure_density_water_distance_from_matrix.x /home/fsund/Projects/flat_square_fracture02/10_05_measuring_every_100th_timestep_200steps/000167/mts0 4 4 4 0.000000 0.250000 40 flat_square_fracture02/10_05_measuring_every_100th_timestep_200steps/dr0.25_n40_000/output_0167.txt\"\n",
        "\n"
       ]
      },
      {
       "output_type": "stream",
       "stream": "stdout",
       "text": [
        "Running command \n",
        "    \"./measure_density_water_distance_from_matrix.x /home/fsund/Projects/flat_square_fracture02/10_05_measuring_every_100th_timestep_200steps/000168/mts0 4 4 4 0.000000 0.250000 40 flat_square_fracture02/10_05_measuring_every_100th_timestep_200steps/dr0.25_n40_000/output_0168.txt\"\n",
        "\n"
       ]
      },
      {
       "output_type": "stream",
       "stream": "stdout",
       "text": [
        "Running command \n",
        "    \"./measure_density_water_distance_from_matrix.x /home/fsund/Projects/flat_square_fracture02/10_05_measuring_every_100th_timestep_200steps/000169/mts0 4 4 4 0.000000 0.250000 40 flat_square_fracture02/10_05_measuring_every_100th_timestep_200steps/dr0.25_n40_000/output_0169.txt\"\n",
        "\n"
       ]
      },
      {
       "output_type": "stream",
       "stream": "stdout",
       "text": [
        "Running command \n",
        "    \"./measure_density_water_distance_from_matrix.x /home/fsund/Projects/flat_square_fracture02/10_05_measuring_every_100th_timestep_200steps/000170/mts0 4 4 4 0.000000 0.250000 40 flat_square_fracture02/10_05_measuring_every_100th_timestep_200steps/dr0.25_n40_000/output_0170.txt\"\n",
        "\n"
       ]
      },
      {
       "output_type": "stream",
       "stream": "stdout",
       "text": [
        "Running command \n",
        "    \"./measure_density_water_distance_from_matrix.x /home/fsund/Projects/flat_square_fracture02/10_05_measuring_every_100th_timestep_200steps/000171/mts0 4 4 4 0.000000 0.250000 40 flat_square_fracture02/10_05_measuring_every_100th_timestep_200steps/dr0.25_n40_000/output_0171.txt\"\n",
        "\n"
       ]
      },
      {
       "output_type": "stream",
       "stream": "stdout",
       "text": [
        "Running command \n",
        "    \"./measure_density_water_distance_from_matrix.x /home/fsund/Projects/flat_square_fracture02/10_05_measuring_every_100th_timestep_200steps/000172/mts0 4 4 4 0.000000 0.250000 40 flat_square_fracture02/10_05_measuring_every_100th_timestep_200steps/dr0.25_n40_000/output_0172.txt\"\n",
        "\n"
       ]
      },
      {
       "output_type": "stream",
       "stream": "stdout",
       "text": [
        "Running command \n",
        "    \"./measure_density_water_distance_from_matrix.x /home/fsund/Projects/flat_square_fracture02/10_05_measuring_every_100th_timestep_200steps/000173/mts0 4 4 4 0.000000 0.250000 40 flat_square_fracture02/10_05_measuring_every_100th_timestep_200steps/dr0.25_n40_000/output_0173.txt\"\n",
        "\n"
       ]
      },
      {
       "output_type": "stream",
       "stream": "stdout",
       "text": [
        "Running command \n",
        "    \"./measure_density_water_distance_from_matrix.x /home/fsund/Projects/flat_square_fracture02/10_05_measuring_every_100th_timestep_200steps/000174/mts0 4 4 4 0.000000 0.250000 40 flat_square_fracture02/10_05_measuring_every_100th_timestep_200steps/dr0.25_n40_000/output_0174.txt\"\n",
        "\n"
       ]
      },
      {
       "output_type": "stream",
       "stream": "stdout",
       "text": [
        "Running command \n",
        "    \"./measure_density_water_distance_from_matrix.x /home/fsund/Projects/flat_square_fracture02/10_05_measuring_every_100th_timestep_200steps/000175/mts0 4 4 4 0.000000 0.250000 40 flat_square_fracture02/10_05_measuring_every_100th_timestep_200steps/dr0.25_n40_000/output_0175.txt\"\n",
        "\n"
       ]
      },
      {
       "output_type": "stream",
       "stream": "stdout",
       "text": [
        "Running command \n",
        "    \"./measure_density_water_distance_from_matrix.x /home/fsund/Projects/flat_square_fracture02/10_05_measuring_every_100th_timestep_200steps/000176/mts0 4 4 4 0.000000 0.250000 40 flat_square_fracture02/10_05_measuring_every_100th_timestep_200steps/dr0.25_n40_000/output_0176.txt\"\n",
        "\n"
       ]
      },
      {
       "output_type": "stream",
       "stream": "stdout",
       "text": [
        "Running command \n",
        "    \"./measure_density_water_distance_from_matrix.x /home/fsund/Projects/flat_square_fracture02/10_05_measuring_every_100th_timestep_200steps/000177/mts0 4 4 4 0.000000 0.250000 40 flat_square_fracture02/10_05_measuring_every_100th_timestep_200steps/dr0.25_n40_000/output_0177.txt\"\n",
        "\n"
       ]
      },
      {
       "output_type": "stream",
       "stream": "stdout",
       "text": [
        "Running command \n",
        "    \"./measure_density_water_distance_from_matrix.x /home/fsund/Projects/flat_square_fracture02/10_05_measuring_every_100th_timestep_200steps/000178/mts0 4 4 4 0.000000 0.250000 40 flat_square_fracture02/10_05_measuring_every_100th_timestep_200steps/dr0.25_n40_000/output_0178.txt\"\n",
        "\n"
       ]
      },
      {
       "output_type": "stream",
       "stream": "stdout",
       "text": [
        "Running command \n",
        "    \"./measure_density_water_distance_from_matrix.x /home/fsund/Projects/flat_square_fracture02/10_05_measuring_every_100th_timestep_200steps/000179/mts0 4 4 4 0.000000 0.250000 40 flat_square_fracture02/10_05_measuring_every_100th_timestep_200steps/dr0.25_n40_000/output_0179.txt\"\n",
        "\n"
       ]
      },
      {
       "output_type": "stream",
       "stream": "stdout",
       "text": [
        "Running command \n",
        "    \"./measure_density_water_distance_from_matrix.x /home/fsund/Projects/flat_square_fracture02/10_05_measuring_every_100th_timestep_200steps/000180/mts0 4 4 4 0.000000 0.250000 40 flat_square_fracture02/10_05_measuring_every_100th_timestep_200steps/dr0.25_n40_000/output_0180.txt\"\n",
        "\n"
       ]
      },
      {
       "output_type": "stream",
       "stream": "stdout",
       "text": [
        "Running command \n",
        "    \"./measure_density_water_distance_from_matrix.x /home/fsund/Projects/flat_square_fracture02/10_05_measuring_every_100th_timestep_200steps/000181/mts0 4 4 4 0.000000 0.250000 40 flat_square_fracture02/10_05_measuring_every_100th_timestep_200steps/dr0.25_n40_000/output_0181.txt\"\n",
        "\n"
       ]
      },
      {
       "output_type": "stream",
       "stream": "stdout",
       "text": [
        "Running command \n",
        "    \"./measure_density_water_distance_from_matrix.x /home/fsund/Projects/flat_square_fracture02/10_05_measuring_every_100th_timestep_200steps/000182/mts0 4 4 4 0.000000 0.250000 40 flat_square_fracture02/10_05_measuring_every_100th_timestep_200steps/dr0.25_n40_000/output_0182.txt\"\n",
        "\n"
       ]
      },
      {
       "output_type": "stream",
       "stream": "stdout",
       "text": [
        "Running command \n",
        "    \"./measure_density_water_distance_from_matrix.x /home/fsund/Projects/flat_square_fracture02/10_05_measuring_every_100th_timestep_200steps/000183/mts0 4 4 4 0.000000 0.250000 40 flat_square_fracture02/10_05_measuring_every_100th_timestep_200steps/dr0.25_n40_000/output_0183.txt\"\n",
        "\n"
       ]
      },
      {
       "output_type": "stream",
       "stream": "stdout",
       "text": [
        "Running command \n",
        "    \"./measure_density_water_distance_from_matrix.x /home/fsund/Projects/flat_square_fracture02/10_05_measuring_every_100th_timestep_200steps/000184/mts0 4 4 4 0.000000 0.250000 40 flat_square_fracture02/10_05_measuring_every_100th_timestep_200steps/dr0.25_n40_000/output_0184.txt\"\n",
        "\n"
       ]
      },
      {
       "output_type": "stream",
       "stream": "stdout",
       "text": [
        "Running command \n",
        "    \"./measure_density_water_distance_from_matrix.x /home/fsund/Projects/flat_square_fracture02/10_05_measuring_every_100th_timestep_200steps/000185/mts0 4 4 4 0.000000 0.250000 40 flat_square_fracture02/10_05_measuring_every_100th_timestep_200steps/dr0.25_n40_000/output_0185.txt\"\n",
        "\n"
       ]
      },
      {
       "output_type": "stream",
       "stream": "stdout",
       "text": [
        "Running command \n",
        "    \"./measure_density_water_distance_from_matrix.x /home/fsund/Projects/flat_square_fracture02/10_05_measuring_every_100th_timestep_200steps/000186/mts0 4 4 4 0.000000 0.250000 40 flat_square_fracture02/10_05_measuring_every_100th_timestep_200steps/dr0.25_n40_000/output_0186.txt\"\n",
        "\n"
       ]
      },
      {
       "output_type": "stream",
       "stream": "stdout",
       "text": [
        "Running command \n",
        "    \"./measure_density_water_distance_from_matrix.x /home/fsund/Projects/flat_square_fracture02/10_05_measuring_every_100th_timestep_200steps/000187/mts0 4 4 4 0.000000 0.250000 40 flat_square_fracture02/10_05_measuring_every_100th_timestep_200steps/dr0.25_n40_000/output_0187.txt\"\n",
        "\n"
       ]
      },
      {
       "output_type": "stream",
       "stream": "stdout",
       "text": [
        "Running command \n",
        "    \"./measure_density_water_distance_from_matrix.x /home/fsund/Projects/flat_square_fracture02/10_05_measuring_every_100th_timestep_200steps/000188/mts0 4 4 4 0.000000 0.250000 40 flat_square_fracture02/10_05_measuring_every_100th_timestep_200steps/dr0.25_n40_000/output_0188.txt\"\n",
        "\n"
       ]
      },
      {
       "output_type": "stream",
       "stream": "stdout",
       "text": [
        "Running command \n",
        "    \"./measure_density_water_distance_from_matrix.x /home/fsund/Projects/flat_square_fracture02/10_05_measuring_every_100th_timestep_200steps/000189/mts0 4 4 4 0.000000 0.250000 40 flat_square_fracture02/10_05_measuring_every_100th_timestep_200steps/dr0.25_n40_000/output_0189.txt\"\n",
        "\n"
       ]
      },
      {
       "output_type": "stream",
       "stream": "stdout",
       "text": [
        "Running command \n",
        "    \"./measure_density_water_distance_from_matrix.x /home/fsund/Projects/flat_square_fracture02/10_05_measuring_every_100th_timestep_200steps/000190/mts0 4 4 4 0.000000 0.250000 40 flat_square_fracture02/10_05_measuring_every_100th_timestep_200steps/dr0.25_n40_000/output_0190.txt\"\n",
        "\n"
       ]
      },
      {
       "output_type": "stream",
       "stream": "stdout",
       "text": [
        "Running command \n",
        "    \"./measure_density_water_distance_from_matrix.x /home/fsund/Projects/flat_square_fracture02/10_05_measuring_every_100th_timestep_200steps/000191/mts0 4 4 4 0.000000 0.250000 40 flat_square_fracture02/10_05_measuring_every_100th_timestep_200steps/dr0.25_n40_000/output_0191.txt\"\n",
        "\n"
       ]
      },
      {
       "output_type": "stream",
       "stream": "stdout",
       "text": [
        "Running command \n",
        "    \"./measure_density_water_distance_from_matrix.x /home/fsund/Projects/flat_square_fracture02/10_05_measuring_every_100th_timestep_200steps/000192/mts0 4 4 4 0.000000 0.250000 40 flat_square_fracture02/10_05_measuring_every_100th_timestep_200steps/dr0.25_n40_000/output_0192.txt\"\n",
        "\n"
       ]
      },
      {
       "output_type": "stream",
       "stream": "stdout",
       "text": [
        "Running command \n",
        "    \"./measure_density_water_distance_from_matrix.x /home/fsund/Projects/flat_square_fracture02/10_05_measuring_every_100th_timestep_200steps/000193/mts0 4 4 4 0.000000 0.250000 40 flat_square_fracture02/10_05_measuring_every_100th_timestep_200steps/dr0.25_n40_000/output_0193.txt\"\n",
        "\n"
       ]
      },
      {
       "output_type": "stream",
       "stream": "stdout",
       "text": [
        "Running command \n",
        "    \"./measure_density_water_distance_from_matrix.x /home/fsund/Projects/flat_square_fracture02/10_05_measuring_every_100th_timestep_200steps/000194/mts0 4 4 4 0.000000 0.250000 40 flat_square_fracture02/10_05_measuring_every_100th_timestep_200steps/dr0.25_n40_000/output_0194.txt\"\n",
        "\n"
       ]
      },
      {
       "output_type": "stream",
       "stream": "stdout",
       "text": [
        "Running command \n",
        "    \"./measure_density_water_distance_from_matrix.x /home/fsund/Projects/flat_square_fracture02/10_05_measuring_every_100th_timestep_200steps/000195/mts0 4 4 4 0.000000 0.250000 40 flat_square_fracture02/10_05_measuring_every_100th_timestep_200steps/dr0.25_n40_000/output_0195.txt\"\n",
        "\n"
       ]
      },
      {
       "output_type": "stream",
       "stream": "stdout",
       "text": [
        "Running command \n",
        "    \"./measure_density_water_distance_from_matrix.x /home/fsund/Projects/flat_square_fracture02/10_05_measuring_every_100th_timestep_200steps/000196/mts0 4 4 4 0.000000 0.250000 40 flat_square_fracture02/10_05_measuring_every_100th_timestep_200steps/dr0.25_n40_000/output_0196.txt\"\n",
        "\n"
       ]
      },
      {
       "output_type": "stream",
       "stream": "stdout",
       "text": [
        "Running command \n",
        "    \"./measure_density_water_distance_from_matrix.x /home/fsund/Projects/flat_square_fracture02/10_05_measuring_every_100th_timestep_200steps/000197/mts0 4 4 4 0.000000 0.250000 40 flat_square_fracture02/10_05_measuring_every_100th_timestep_200steps/dr0.25_n40_000/output_0197.txt\"\n",
        "\n"
       ]
      },
      {
       "output_type": "stream",
       "stream": "stdout",
       "text": [
        "Running command \n",
        "    \"./measure_density_water_distance_from_matrix.x /home/fsund/Projects/flat_square_fracture02/10_05_measuring_every_100th_timestep_200steps/000198/mts0 4 4 4 0.000000 0.250000 40 flat_square_fracture02/10_05_measuring_every_100th_timestep_200steps/dr0.25_n40_000/output_0198.txt\"\n",
        "\n"
       ]
      },
      {
       "output_type": "stream",
       "stream": "stdout",
       "text": [
        "Running command \n",
        "    \"./measure_density_water_distance_from_matrix.x /home/fsund/Projects/flat_square_fracture02/10_05_measuring_every_100th_timestep_200steps/000199/mts0 4 4 4 0.000000 0.250000 40 flat_square_fracture02/10_05_measuring_every_100th_timestep_200steps/dr0.25_n40_000/output_0199.txt\"\n",
        "\n"
       ]
      }
     ],
     "prompt_number": 18
    },
    {
     "cell_type": "code",
     "collapsed": false,
     "input": [],
     "language": "python",
     "metadata": {},
     "outputs": []
    }
   ],
   "metadata": {}
  }
 ]
}