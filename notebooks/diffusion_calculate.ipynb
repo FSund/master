{
 "metadata": {
  "name": ""
 },
 "nbformat": 3,
 "nbformat_minor": 0,
 "worksheets": [
  {
   "cells": [
    {
     "cell_type": "markdown",
     "metadata": {},
     "source": [
      "## Set up python environment\n",
      "* change dir"
     ]
    },
    {
     "cell_type": "code",
     "collapsed": false,
     "input": [
      "# Set up environment, change directory\n",
      "import os.path\n",
      "\n",
      "top_cwd = \"/home/fsund/Dropbox/Masteroppgave/master/notebooks\"\n",
      "cwd = \"/home/fsund/Dropbox/Masteroppgave/master/notebooks/diffusion\"\n",
      "os.chdir(cwd)\n",
      "print os.getcwd()"
     ],
     "language": "python",
     "metadata": {},
     "outputs": [
      {
       "output_type": "stream",
       "stream": "stdout",
       "text": [
        "/home/fsund/Dropbox/Masteroppgave/master/notebooks/diffusion\n"
       ]
      }
     ],
     "prompt_number": 1
    },
    {
     "cell_type": "markdown",
     "metadata": {},
     "source": [
      "#### Flat square fracture - DONE with 200 steps"
     ]
    },
    {
     "cell_type": "code",
     "collapsed": false,
     "input": [
      "# Set up variables\n",
      "project_location = \"~/Projects/\"\n",
      "project_name = \"flat_square_fracture02\"\n",
      "states_folder = \"10_05_measuring_every_100th_timestep_200steps\"\n",
      "n_cpus = [4, 4, 4]"
     ],
     "language": "python",
     "metadata": {},
     "outputs": [],
     "prompt_number": 2
    },
    {
     "cell_type": "markdown",
     "metadata": {},
     "source": [
      "#### Rough fracture - DONE with 200 steps"
     ]
    },
    {
     "cell_type": "code",
     "collapsed": false,
     "input": [
      "# Set up variables\n",
      "project_location = \"~/Projects/\"\n",
      "project_name = \"rough_fracture01_abel\"\n",
      "states_folder = \"12_04_measuring_every_100th_timestep_200steps\"\n",
      "n_cpus = [3, 3, 3]"
     ],
     "language": "python",
     "metadata": {},
     "outputs": [],
     "prompt_number": 70
    },
    {
     "cell_type": "markdown",
     "metadata": {},
     "source": [
      "## Set up variables"
     ]
    },
    {
     "cell_type": "code",
     "collapsed": false,
     "input": [
      "path_to_states = os.path.join(project_location, project_name, states_folder)\n",
      "\n",
      "folder_name_base = path_to_states + \"/\"\n",
      "#print \"Folder name base: \\\"\" + folder_name_base + \"\\\"\"\n",
      "folder_name_iterator_start = 0\n",
      "folder_name_step = 1\n",
      "folder_name_n_steps = 200\n",
      "\n",
      "r_start = 0.0\n",
      "r_step = 0.25\n",
      "n_steps = 40\n",
      "\n",
      "executable = \"./mean_square_displacement.x\"\n",
      "partial_arguments = \"%d %d %d %s %d %d %d %.3f %.3f %d\" %(n_cpus[0], n_cpus[1], n_cpus[2], \n",
      "    folder_name_base, folder_name_iterator_start, folder_name_step, folder_name_n_steps, \n",
      "    r_start, r_step, n_steps)\n",
      "\n",
      "print \"Arguments: \\\"\" + partial_arguments + \"\\\"\""
     ],
     "language": "python",
     "metadata": {},
     "outputs": [
      {
       "output_type": "stream",
       "stream": "stdout",
       "text": [
        "Arguments: \"4 4 4 ~/Projects/flat_square_fracture02/10_05_measuring_every_100th_timestep_200steps/ 0 1 200 0.000 0.250 40\"\n"
       ]
      }
     ],
     "prompt_number": 10
    },
    {
     "cell_type": "markdown",
     "metadata": {},
     "source": [
      "## Set up folders and copy scripts\n",
      "* create output folders and copy this script to the folder"
     ]
    },
    {
     "cell_type": "code",
     "collapsed": false,
     "input": [
      "partial_output_folder = os.path.join(project_name, states_folder)\n",
      "!mkdir -p $partial_output_folder\n",
      "\n",
      "partial_output_folder = os.path.join(partial_output_folder, \"r0_%.2f_dr%.2f_n%d\" %(r_start,r_step, n_steps))\n",
      "i = 0\n",
      "output_folder = \"%s_%03d\" %(partial_output_folder, i)\n",
      "if os.path.exists(output_folder):\n",
      "    print \"Wanted output folder \\\"%s\\\" exists, trying higher numbers\" %output_folder\n",
      "    i += 1\n",
      "    output_folder = \"%s_%03d\" %(partial_output_folder, i)\n",
      "    while os.path.exists(output_folder):\n",
      "        print \"    %03d also exists, trying higher numbers\" %i\n",
      "        i += 1\n",
      "        output_folder = \"%s_%03d\" %(partial_output_folder, i)\n",
      "        if (i>99):\n",
      "            print \"Too many folders, aborting!\"\n",
      "            output_folder = \"\"\n",
      "            exit(1)\n",
      "\n",
      "print \"Making output folder \\\"%s\\\"\" %output_folder    \n",
      "!mkdir $output_folder\n",
      "\n",
      "script_name = \"diffusion_calculate.ipynb\"\n",
      "path_to_script = os.path.join(top_cwd, script_name)\n",
      "copy_script_to = os.path.join(output_folder, script_name)\n",
      "print \"Copying script to output folder\"\n",
      "!cp $path_to_script $copy_script_to"
     ],
     "language": "python",
     "metadata": {},
     "outputs": [
      {
       "output_type": "stream",
       "stream": "stdout",
       "text": [
        "Making output folder \"flat_square_fracture02/10_05_measuring_every_100th_timestep_200steps/r0_0.00_dr0.25_n40_000\"\n"
       ]
      },
      {
       "output_type": "stream",
       "stream": "stdout",
       "text": [
        "Copying script to output folder\n"
       ]
      }
     ],
     "prompt_number": 11
    },
    {
     "cell_type": "code",
     "collapsed": false,
     "input": [
      "arguments = partial_arguments + \" %s 1\" %(os.path.join(output_folder, \"results.txt\"))\n",
      "if True:\n",
      "    print \"Running command \\\"%s %s\\\"\\n\" %(executable, arguments)\n",
      "    #command_output = !$executable $arguments\n",
      "    !$executable $arguments\n",
      "    "
     ],
     "language": "python",
     "metadata": {},
     "outputs": [
      {
       "output_type": "stream",
       "stream": "stdout",
       "text": [
        "Running command \"./mean_square_displacement.x 4 4 4 ~/Projects/flat_square_fracture02/10_05_measuring_every_100th_timestep_200steps/ 0 1 200 0.000 0.250 40 flat_square_fracture02/10_05_measuring_every_100th_timestep_200steps/r0_0.00_dr0.25_n40_000/results.txt 1\"\n",
        "\n",
        "Mts0 folder names:\r\n",
        "\t\"/home/fsund/Projects/flat_square_fracture02/10_05_measuring_every_100th_timestep_200steps/000000/mts0/\"\r\n",
        "\t\"/home/fsund/Projects/flat_square_fracture02/10_05_measuring_every_100th_timestep_200steps/000001/mts0/\"\r\n",
        "\t\"/home/fsund/Projects/flat_square_fracture02/10_05_measuring_every_100th_timestep_200steps/000002/mts0/\"\r\n",
        "\t\"/home/fsund/Projects/flat_square_fracture02/10_05_measuring_every_100th_timestep_200steps/000003/mts0/\"\r\n",
        "\t\"/home/fsund/Projects/flat_square_fracture02/10_05_measuring_every_100th_timestep_200steps/000004/mts0/\"\r\n",
        "\t\"/home/fsund/Projects/flat_square_fracture02/10_05_measuring_every_100th_timestep_200steps/000005/mts0/\"\r\n",
        "\t\"/home/fsund/Projects/flat_square_fracture02/10_05_measuring_every_100th_timestep_200steps/000006/mts0/\"\r\n",
        "\t\"/home/fsund/Projects/flat_square_fracture02/10_05_measuring_every_100th_timestep_200steps/000007/mts0/\"\r\n",
        "\t\"/home/fsund/Projects/flat_square_fracture02/10_05_measuring_every_100th_timestep_200steps/000008/mts0/\"\r\n",
        "\t\"/home/fsund/Projects/flat_square_fracture02/10_05_measuring_every_100th_timestep_200steps/000009/mts0/\"\r\n",
        "\t\"/home/fsund/Projects/flat_square_fracture02/10_05_measuring_every_100th_timestep_200steps/000010/mts0/\"\r\n",
        "\t\"/home/fsund/Projects/flat_square_fracture02/10_05_measuring_every_100th_timestep_200steps/000011/mts0/\"\r\n",
        "\t\"/home/fsund/Projects/flat_square_fracture02/10_05_measuring_every_100th_timestep_200steps/000012/mts0/\"\r\n",
        "\t\"/home/fsund/Projects/flat_square_fracture02/10_05_measuring_every_100th_timestep_200steps/000013/mts0/\"\r\n",
        "\t\"/home/fsund/Projects/flat_square_fracture02/10_05_measuring_every_100th_timestep_200steps/000014/mts0/\"\r\n",
        "\t\"/home/fsund/Projects/flat_square_fracture02/10_05_measuring_every_100th_timestep_200steps/000015/mts0/\"\r\n",
        "\t\"/home/fsund/Projects/flat_square_fracture02/10_05_measuring_every_100th_timestep_200steps/000016/mts0/\"\r\n",
        "\t\"/home/fsund/Projects/flat_square_fracture02/10_05_measuring_every_100th_timestep_200steps/000017/mts0/\"\r\n",
        "\t\"/home/fsund/Projects/flat_square_fracture02/10_05_measuring_every_100th_timestep_200steps/000018/mts0/\"\r\n",
        "\t\"/home/fsund/Projects/flat_square_fracture02/10_05_measuring_every_100th_timestep_200steps/000019/mts0/\"\r\n",
        "\t\"/home/fsund/Projects/flat_square_fracture02/10_05_measuring_every_100th_timestep_200steps/000020/mts0/\"\r\n",
        "\t\"/home/fsund/Projects/flat_square_fracture02/10_05_measuring_every_100th_timestep_200steps/000021/mts0/\"\r\n",
        "\t\"/home/fsund/Projects/flat_square_fracture02/10_05_measuring_every_100th_timestep_200steps/000022/mts0/\"\r\n",
        "\t\"/home/fsund/Projects/flat_square_fracture02/10_05_measuring_every_100th_timestep_200steps/000023/mts0/\"\r\n",
        "\t\"/home/fsund/Projects/flat_square_fracture02/10_05_measuring_every_100th_timestep_200steps/000024/mts0/\"\r\n",
        "\t\"/home/fsund/Projects/flat_square_fracture02/10_05_measuring_every_100th_timestep_200steps/000025/mts0/\"\r\n",
        "\t\"/home/fsund/Projects/flat_square_fracture02/10_05_measuring_every_100th_timestep_200steps/000026/mts0/\"\r\n",
        "\t\"/home/fsund/Projects/flat_square_fracture02/10_05_measuring_every_100th_timestep_200steps/000027/mts0/\"\r\n",
        "\t\"/home/fsund/Projects/flat_square_fracture02/10_05_measuring_every_100th_timestep_200steps/000028/mts0/\"\r\n",
        "\t\"/home/fsund/Projects/flat_square_fracture02/10_05_measuring_every_100th_timestep_200steps/000029/mts0/\"\r\n",
        "\t\"/home/fsund/Projects/flat_square_fracture02/10_05_measuring_every_100th_timestep_200steps/000030/mts0/\"\r\n",
        "\t\"/home/fsund/Projects/flat_square_fracture02/10_05_measuring_every_100th_timestep_200steps/000031/mts0/\"\r\n",
        "\t\"/home/fsund/Projects/flat_square_fracture02/10_05_measuring_every_100th_timestep_200steps/000032/mts0/\"\r\n",
        "\t\"/home/fsund/Projects/flat_square_fracture02/10_05_measuring_every_100th_timestep_200steps/000033/mts0/\"\r\n",
        "\t\"/home/fsund/Projects/flat_square_fracture02/10_05_measuring_every_100th_timestep_200steps/000034/mts0/\"\r\n",
        "\t\"/home/fsund/Projects/flat_square_fracture02/10_05_measuring_every_100th_timestep_200steps/000035/mts0/\"\r\n",
        "\t\"/home/fsund/Projects/flat_square_fracture02/10_05_measuring_every_100th_timestep_200steps/000036/mts0/\"\r\n",
        "\t\"/home/fsund/Projects/flat_square_fracture02/10_05_measuring_every_100th_timestep_200steps/000037/mts0/\"\r\n",
        "\t\"/home/fsund/Projects/flat_square_fracture02/10_05_measuring_every_100th_timestep_200steps/000038/mts0/\"\r\n",
        "\t\"/home/fsund/Projects/flat_square_fracture02/10_05_measuring_every_100th_timestep_200steps/000039/mts0/\"\r\n",
        "\t\"/home/fsund/Projects/flat_square_fracture02/10_05_measuring_every_100th_timestep_200steps/000040/mts0/\"\r\n",
        "\t\"/home/fsund/Projects/flat_square_fracture02/10_05_measuring_every_100th_timestep_200steps/000041/mts0/\"\r\n",
        "\t\"/home/fsund/Projects/flat_square_fracture02/10_05_measuring_every_100th_timestep_200steps/000042/mts0/\"\r\n",
        "\t\"/home/fsund/Projects/flat_square_fracture02/10_05_measuring_every_100th_timestep_200steps/000043/mts0/\"\r\n",
        "\t\"/home/fsund/Projects/flat_square_fracture02/10_05_measuring_every_100th_timestep_200steps/000044/mts0/\"\r\n",
        "\t\"/home/fsund/Projects/flat_square_fracture02/10_05_measuring_every_100th_timestep_200steps/000045/mts0/\"\r\n",
        "\t\"/home/fsund/Projects/flat_square_fracture02/10_05_measuring_every_100th_timestep_200steps/000046/mts0/\"\r\n",
        "\t\"/home/fsund/Projects/flat_square_fracture02/10_05_measuring_every_100th_timestep_200steps/000047/mts0/\"\r\n",
        "\t\"/home/fsund/Projects/flat_square_fracture02/10_05_measuring_every_100th_timestep_200steps/000048/mts0/\"\r\n",
        "\t\"/home/fsund/Projects/flat_square_fracture02/10_05_measuring_every_100th_timestep_200steps/000049/mts0/\"\r\n",
        "\t\"/home/fsund/Projects/flat_square_fracture02/10_05_measuring_every_100th_timestep_200steps/000050/mts0/\"\r\n",
        "\t\"/home/fsund/Projects/flat_square_fracture02/10_05_measuring_every_100th_timestep_200steps/000051/mts0/\"\r\n",
        "\t\"/home/fsund/Projects/flat_square_fracture02/10_05_measuring_every_100th_timestep_200steps/000052/mts0/\"\r\n",
        "\t\"/home/fsund/Projects/flat_square_fracture02/10_05_measuring_every_100th_timestep_200steps/000053/mts0/\"\r\n",
        "\t\"/home/fsund/Projects/flat_square_fracture02/10_05_measuring_every_100th_timestep_200steps/000054/mts0/\"\r\n",
        "\t\"/home/fsund/Projects/flat_square_fracture02/10_05_measuring_every_100th_timestep_200steps/000055/mts0/\"\r\n",
        "\t\"/home/fsund/Projects/flat_square_fracture02/10_05_measuring_every_100th_timestep_200steps/000056/mts0/\"\r\n",
        "\t\"/home/fsund/Projects/flat_square_fracture02/10_05_measuring_every_100th_timestep_200steps/000057/mts0/\"\r\n",
        "\t\"/home/fsund/Projects/flat_square_fracture02/10_05_measuring_every_100th_timestep_200steps/000058/mts0/\"\r\n",
        "\t\"/home/fsund/Projects/flat_square_fracture02/10_05_measuring_every_100th_timestep_200steps/000059/mts0/\"\r\n",
        "\t\"/home/fsund/Projects/flat_square_fracture02/10_05_measuring_every_100th_timestep_200steps/000060/mts0/\"\r\n",
        "\t\"/home/fsund/Projects/flat_square_fracture02/10_05_measuring_every_100th_timestep_200steps/000061/mts0/\"\r\n",
        "\t\"/home/fsund/Projects/flat_square_fracture02/10_05_measuring_every_100th_timestep_200steps/000062/mts0/\"\r\n",
        "\t\"/home/fsund/Projects/flat_square_fracture02/10_05_measuring_every_100th_timestep_200steps/000063/mts0/\"\r\n",
        "\t\"/home/fsund/Projects/flat_square_fracture02/10_05_measuring_every_100th_timestep_200steps/000064/mts0/\"\r\n",
        "\t\"/home/fsund/Projects/flat_square_fracture02/10_05_measuring_every_100th_timestep_200steps/000065/mts0/\"\r\n",
        "\t\"/home/fsund/Projects/flat_square_fracture02/10_05_measuring_every_100th_timestep_200steps/000066/mts0/\"\r\n",
        "\t\"/home/fsund/Projects/flat_square_fracture02/10_05_measuring_every_100th_timestep_200steps/000067/mts0/\"\r\n",
        "\t\"/home/fsund/Projects/flat_square_fracture02/10_05_measuring_every_100th_timestep_200steps/000068/mts0/\"\r\n",
        "\t\"/home/fsund/Projects/flat_square_fracture02/10_05_measuring_every_100th_timestep_200steps/000069/mts0/\"\r\n",
        "\t\"/home/fsund/Projects/flat_square_fracture02/10_05_measuring_every_100th_timestep_200steps/000070/mts0/\"\r\n",
        "\t\"/home/fsund/Projects/flat_square_fracture02/10_05_measuring_every_100th_timestep_200steps/000071/mts0/\"\r\n",
        "\t\"/home/fsund/Projects/flat_square_fracture02/10_05_measuring_every_100th_timestep_200steps/000072/mts0/\"\r\n",
        "\t\"/home/fsund/Projects/flat_square_fracture02/10_05_measuring_every_100th_timestep_200steps/000073/mts0/\"\r\n",
        "\t\"/home/fsund/Projects/flat_square_fracture02/10_05_measuring_every_100th_timestep_200steps/000074/mts0/\"\r\n",
        "\t\"/home/fsund/Projects/flat_square_fracture02/10_05_measuring_every_100th_timestep_200steps/000075/mts0/\"\r\n",
        "\t\"/home/fsund/Projects/flat_square_fracture02/10_05_measuring_every_100th_timestep_200steps/000076/mts0/\"\r\n",
        "\t\"/home/fsund/Projects/flat_square_fracture02/10_05_measuring_every_100th_timestep_200steps/000077/mts0/\"\r\n",
        "\t\"/home/fsund/Projects/flat_square_fracture02/10_05_measuring_every_100th_timestep_200steps/000078/mts0/\"\r\n",
        "\t\"/home/fsund/Projects/flat_square_fracture02/10_05_measuring_every_100th_timestep_200steps/000079/mts0/\"\r\n",
        "\t\"/home/fsund/Projects/flat_square_fracture02/10_05_measuring_every_100th_timestep_200steps/000080/mts0/\"\r\n",
        "\t\"/home/fsund/Projects/flat_square_fracture02/10_05_measuring_every_100th_timestep_200steps/000081/mts0/\"\r\n",
        "\t\"/home/fsund/Projects/flat_square_fracture02/10_05_measuring_every_100th_timestep_200steps/000082/mts0/\"\r\n",
        "\t\"/home/fsund/Projects/flat_square_fracture02/10_05_measuring_every_100th_timestep_200steps/000083/mts0/\"\r\n",
        "\t\"/home/fsund/Projects/flat_square_fracture02/10_05_measuring_every_100th_timestep_200steps/000084/mts0/\"\r\n",
        "\t\"/home/fsund/Projects/flat_square_fracture02/10_05_measuring_every_100th_timestep_200steps/000085/mts0/\"\r\n",
        "\t\"/home/fsund/Projects/flat_square_fracture02/10_05_measuring_every_100th_timestep_200steps/000086/mts0/\"\r\n",
        "\t\"/home/fsund/Projects/flat_square_fracture02/10_05_measuring_every_100th_timestep_200steps/000087/mts0/\"\r\n",
        "\t\"/home/fsund/Projects/flat_square_fracture02/10_05_measuring_every_100th_timestep_200steps/000088/mts0/\"\r\n",
        "\t\"/home/fsund/Projects/flat_square_fracture02/10_05_measuring_every_100th_timestep_200steps/000089/mts0/\"\r\n",
        "\t\"/home/fsund/Projects/flat_square_fracture02/10_05_measuring_every_100th_timestep_200steps/000090/mts0/\"\r\n",
        "\t\"/home/fsund/Projects/flat_square_fracture02/10_05_measuring_every_100th_timestep_200steps/000091/mts0/\"\r\n",
        "\t\"/home/fsund/Projects/flat_square_fracture02/10_05_measuring_every_100th_timestep_200steps/000092/mts0/\"\r\n",
        "\t\"/home/fsund/Projects/flat_square_fracture02/10_05_measuring_every_100th_timestep_200steps/000093/mts0/\"\r\n",
        "\t\"/home/fsund/Projects/flat_square_fracture02/10_05_measuring_every_100th_timestep_200steps/000094/mts0/\"\r\n",
        "\t\"/home/fsund/Projects/flat_square_fracture02/10_05_measuring_every_100th_timestep_200steps/000095/mts0/\"\r\n",
        "\t\"/home/fsund/Projects/flat_square_fracture02/10_05_measuring_every_100th_timestep_200steps/000096/mts0/\"\r\n",
        "\t\"/home/fsund/Projects/flat_square_fracture02/10_05_measuring_every_100th_timestep_200steps/000097/mts0/\"\r\n",
        "\t\"/home/fsund/Projects/flat_square_fracture02/10_05_measuring_every_100th_timestep_200steps/000098/mts0/\"\r\n",
        "\t\"/home/fsund/Projects/flat_square_fracture02/10_05_measuring_every_100th_timestep_200steps/000099/mts0/\"\r\n",
        "\t\"/home/fsund/Projects/flat_square_fracture02/10_05_measuring_every_100th_timestep_200steps/000100/mts0/\"\r\n",
        "\t\"/home/fsund/Projects/flat_square_fracture02/10_05_measuring_every_100th_timestep_200steps/000101/mts0/\"\r\n",
        "\t\"/home/fsund/Projects/flat_square_fracture02/10_05_measuring_every_100th_timestep_200steps/000102/mts0/\"\r\n",
        "\t\"/home/fsund/Projects/flat_square_fracture02/10_05_measuring_every_100th_timestep_200steps/000103/mts0/\"\r\n",
        "\t\"/home/fsund/Projects/flat_square_fracture02/10_05_measuring_every_100th_timestep_200steps/000104/mts0/\"\r\n",
        "\t\"/home/fsund/Projects/flat_square_fracture02/10_05_measuring_every_100th_timestep_200steps/000105/mts0/\"\r\n",
        "\t\"/home/fsund/Projects/flat_square_fracture02/10_05_measuring_every_100th_timestep_200steps/000106/mts0/\"\r\n",
        "\t\"/home/fsund/Projects/flat_square_fracture02/10_05_measuring_every_100th_timestep_200steps/000107/mts0/\"\r\n",
        "\t\"/home/fsund/Projects/flat_square_fracture02/10_05_measuring_every_100th_timestep_200steps/000108/mts0/\"\r\n",
        "\t\"/home/fsund/Projects/flat_square_fracture02/10_05_measuring_every_100th_timestep_200steps/000109/mts0/\"\r\n",
        "\t\"/home/fsund/Projects/flat_square_fracture02/10_05_measuring_every_100th_timestep_200steps/000110/mts0/\"\r\n",
        "\t\"/home/fsund/Projects/flat_square_fracture02/10_05_measuring_every_100th_timestep_200steps/000111/mts0/\"\r\n",
        "\t\"/home/fsund/Projects/flat_square_fracture02/10_05_measuring_every_100th_timestep_200steps/000112/mts0/\"\r\n",
        "\t\"/home/fsund/Projects/flat_square_fracture02/10_05_measuring_every_100th_timestep_200steps/000113/mts0/\"\r\n",
        "\t\"/home/fsund/Projects/flat_square_fracture02/10_05_measuring_every_100th_timestep_200steps/000114/mts0/\"\r\n",
        "\t\"/home/fsund/Projects/flat_square_fracture02/10_05_measuring_every_100th_timestep_200steps/000115/mts0/\"\r\n",
        "\t\"/home/fsund/Projects/flat_square_fracture02/10_05_measuring_every_100th_timestep_200steps/000116/mts0/\"\r\n",
        "\t\"/home/fsund/Projects/flat_square_fracture02/10_05_measuring_every_100th_timestep_200steps/000117/mts0/\"\r\n",
        "\t\"/home/fsund/Projects/flat_square_fracture02/10_05_measuring_every_100th_timestep_200steps/000118/mts0/\"\r\n",
        "\t\"/home/fsund/Projects/flat_square_fracture02/10_05_measuring_every_100th_timestep_200steps/000119/mts0/\"\r\n",
        "\t\"/home/fsund/Projects/flat_square_fracture02/10_05_measuring_every_100th_timestep_200steps/000120/mts0/\"\r\n",
        "\t\"/home/fsund/Projects/flat_square_fracture02/10_05_measuring_every_100th_timestep_200steps/000121/mts0/\"\r\n",
        "\t\"/home/fsund/Projects/flat_square_fracture02/10_05_measuring_every_100th_timestep_200steps/000122/mts0/\"\r\n",
        "\t\"/home/fsund/Projects/flat_square_fracture02/10_05_measuring_every_100th_timestep_200steps/000123/mts0/\"\r\n",
        "\t\"/home/fsund/Projects/flat_square_fracture02/10_05_measuring_every_100th_timestep_200steps/000124/mts0/\"\r\n",
        "\t\"/home/fsund/Projects/flat_square_fracture02/10_05_measuring_every_100th_timestep_200steps/000125/mts0/\"\r\n",
        "\t\"/home/fsund/Projects/flat_square_fracture02/10_05_measuring_every_100th_timestep_200steps/000126/mts0/\"\r\n",
        "\t\"/home/fsund/Projects/flat_square_fracture02/10_05_measuring_every_100th_timestep_200steps/000127/mts0/\"\r\n",
        "\t\"/home/fsund/Projects/flat_square_fracture02/10_05_measuring_every_100th_timestep_200steps/000128/mts0/\"\r\n",
        "\t\"/home/fsund/Projects/flat_square_fracture02/10_05_measuring_every_100th_timestep_200steps/000129/mts0/\"\r\n",
        "\t\"/home/fsund/Projects/flat_square_fracture02/10_05_measuring_every_100th_timestep_200steps/000130/mts0/\"\r\n",
        "\t\"/home/fsund/Projects/flat_square_fracture02/10_05_measuring_every_100th_timestep_200steps/000131/mts0/\"\r\n",
        "\t\"/home/fsund/Projects/flat_square_fracture02/10_05_measuring_every_100th_timestep_200steps/000132/mts0/\"\r\n",
        "\t\"/home/fsund/Projects/flat_square_fracture02/10_05_measuring_every_100th_timestep_200steps/000133/mts0/\"\r\n",
        "\t\"/home/fsund/Projects/flat_square_fracture02/10_05_measuring_every_100th_timestep_200steps/000134/mts0/\"\r\n",
        "\t\"/home/fsund/Projects/flat_square_fracture02/10_05_measuring_every_100th_timestep_200steps/000135/mts0/\"\r\n",
        "\t\"/home/fsund/Projects/flat_square_fracture02/10_05_measuring_every_100th_timestep_200steps/000136/mts0/\"\r\n",
        "\t\"/home/fsund/Projects/flat_square_fracture02/10_05_measuring_every_100th_timestep_200steps/000137/mts0/\"\r\n",
        "\t\"/home/fsund/Projects/flat_square_fracture02/10_05_measuring_every_100th_timestep_200steps/000138/mts0/\"\r\n",
        "\t\"/home/fsund/Projects/flat_square_fracture02/10_05_measuring_every_100th_timestep_200steps/000139/mts0/\"\r\n",
        "\t\"/home/fsund/Projects/flat_square_fracture02/10_05_measuring_every_100th_timestep_200steps/000140/mts0/\"\r\n",
        "\t\"/home/fsund/Projects/flat_square_fracture02/10_05_measuring_every_100th_timestep_200steps/000141/mts0/\"\r\n",
        "\t\"/home/fsund/Projects/flat_square_fracture02/10_05_measuring_every_100th_timestep_200steps/000142/mts0/\"\r\n",
        "\t\"/home/fsund/Projects/flat_square_fracture02/10_05_measuring_every_100th_timestep_200steps/000143/mts0/\"\r\n",
        "\t\"/home/fsund/Projects/flat_square_fracture02/10_05_measuring_every_100th_timestep_200steps/000144/mts0/\"\r\n",
        "\t\"/home/fsund/Projects/flat_square_fracture02/10_05_measuring_every_100th_timestep_200steps/000145/mts0/\"\r\n",
        "\t\"/home/fsund/Projects/flat_square_fracture02/10_05_measuring_every_100th_timestep_200steps/000146/mts0/\"\r\n",
        "\t\"/home/fsund/Projects/flat_square_fracture02/10_05_measuring_every_100th_timestep_200steps/000147/mts0/\"\r\n",
        "\t\"/home/fsund/Projects/flat_square_fracture02/10_05_measuring_every_100th_timestep_200steps/000148/mts0/\"\r\n",
        "\t\"/home/fsund/Projects/flat_square_fracture02/10_05_measuring_every_100th_timestep_200steps/000149/mts0/\"\r\n",
        "\t\"/home/fsund/Projects/flat_square_fracture02/10_05_measuring_every_100th_timestep_200steps/000150/mts0/\"\r\n",
        "\t\"/home/fsund/Projects/flat_square_fracture02/10_05_measuring_every_100th_timestep_200steps/000151/mts0/\"\r\n",
        "\t\"/home/fsund/Projects/flat_square_fracture02/10_05_measuring_every_100th_timestep_200steps/000152/mts0/\"\r\n",
        "\t\"/home/fsund/Projects/flat_square_fracture02/10_05_measuring_every_100th_timestep_200steps/000153/mts0/\"\r\n",
        "\t\"/home/fsund/Projects/flat_square_fracture02/10_05_measuring_every_100th_timestep_200steps/000154/mts0/\"\r\n",
        "\t\"/home/fsund/Projects/flat_square_fracture02/10_05_measuring_every_100th_timestep_200steps/000155/mts0/\"\r\n",
        "\t\"/home/fsund/Projects/flat_square_fracture02/10_05_measuring_every_100th_timestep_200steps/000156/mts0/\"\r\n",
        "\t\"/home/fsund/Projects/flat_square_fracture02/10_05_measuring_every_100th_timestep_200steps/000157/mts0/\"\r\n",
        "\t\"/home/fsund/Projects/flat_square_fracture02/10_05_measuring_every_100th_timestep_200steps/000158/mts0/\"\r\n",
        "\t\"/home/fsund/Projects/flat_square_fracture02/10_05_measuring_every_100th_timestep_200steps/000159/mts0/\"\r\n",
        "\t\"/home/fsund/Projects/flat_square_fracture02/10_05_measuring_every_100th_timestep_200steps/000160/mts0/\"\r\n",
        "\t\"/home/fsund/Projects/flat_square_fracture02/10_05_measuring_every_100th_timestep_200steps/000161/mts0/\"\r\n",
        "\t\"/home/fsund/Projects/flat_square_fracture02/10_05_measuring_every_100th_timestep_200steps/000162/mts0/\"\r\n",
        "\t\"/home/fsund/Projects/flat_square_fracture02/10_05_measuring_every_100th_timestep_200steps/000163/mts0/\"\r\n",
        "\t\"/home/fsund/Projects/flat_square_fracture02/10_05_measuring_every_100th_timestep_200steps/000164/mts0/\"\r\n",
        "\t\"/home/fsund/Projects/flat_square_fracture02/10_05_measuring_every_100th_timestep_200steps/000165/mts0/\"\r\n",
        "\t\"/home/fsund/Projects/flat_square_fracture02/10_05_measuring_every_100th_timestep_200steps/000166/mts0/\"\r\n",
        "\t\"/home/fsund/Projects/flat_square_fracture02/10_05_measuring_every_100th_timestep_200steps/000167/mts0/\"\r\n",
        "\t\"/home/fsund/Projects/flat_square_fracture02/10_05_measuring_every_100th_timestep_200steps/000168/mts0/\"\r\n",
        "\t\"/home/fsund/Projects/flat_square_fracture02/10_05_measuring_every_100th_timestep_200steps/000169/mts0/\"\r\n",
        "\t\"/home/fsund/Projects/flat_square_fracture02/10_05_measuring_every_100th_timestep_200steps/000170/mts0/\"\r\n",
        "\t\"/home/fsund/Projects/flat_square_fracture02/10_05_measuring_every_100th_timestep_200steps/000171/mts0/\"\r\n",
        "\t\"/home/fsund/Projects/flat_square_fracture02/10_05_measuring_every_100th_timestep_200steps/000172/mts0/\"\r\n",
        "\t\"/home/fsund/Projects/flat_square_fracture02/10_05_measuring_every_100th_timestep_200steps/000173/mts0/\"\r\n",
        "\t\"/home/fsund/Projects/flat_square_fracture02/10_05_measuring_every_100th_timestep_200steps/000174/mts0/\"\r\n",
        "\t\"/home/fsund/Projects/flat_square_fracture02/10_05_measuring_every_100th_timestep_200steps/000175/mts0/\"\r\n",
        "\t\"/home/fsund/Projects/flat_square_fracture02/10_05_measuring_every_100th_timestep_200steps/000176/mts0/\"\r\n",
        "\t\"/home/fsund/Projects/flat_square_fracture02/10_05_measuring_every_100th_timestep_200steps/000177/mts0/\"\r\n",
        "\t\"/home/fsund/Projects/flat_square_fracture02/10_05_measuring_every_100th_timestep_200steps/000178/mts0/\"\r\n",
        "\t\"/home/fsund/Projects/flat_square_fracture02/10_05_measuring_every_100th_timestep_200steps/000179/mts0/\"\r\n",
        "\t\"/home/fsund/Projects/flat_square_fracture02/10_05_measuring_every_100th_timestep_200steps/000180/mts0/\"\r\n",
        "\t\"/home/fsund/Projects/flat_square_fracture02/10_05_measuring_every_100th_timestep_200steps/000181/mts0/\"\r\n",
        "\t\"/home/fsund/Projects/flat_square_fracture02/10_05_measuring_every_100th_timestep_200steps/000182/mts0/\"\r\n",
        "\t\"/home/fsund/Projects/flat_square_fracture02/10_05_measuring_every_100th_timestep_200steps/000183/mts0/\"\r\n",
        "\t\"/home/fsund/Projects/flat_square_fracture02/10_05_measuring_every_100th_timestep_200steps/000184/mts0/\"\r\n",
        "\t\"/home/fsund/Projects/flat_square_fracture02/10_05_measuring_every_100th_timestep_200steps/000185/mts0/\"\r\n",
        "\t\"/home/fsund/Projects/flat_square_fracture02/10_05_measuring_every_100th_timestep_200steps/000186/mts0/\"\r\n",
        "\t\"/home/fsund/Projects/flat_square_fracture02/10_05_measuring_every_100th_timestep_200steps/000187/mts0/\"\r\n",
        "\t\"/home/fsund/Projects/flat_square_fracture02/10_05_measuring_every_100th_timestep_200steps/000188/mts0/\"\r\n",
        "\t\"/home/fsund/Projects/flat_square_fracture02/10_05_measuring_every_100th_timestep_200steps/000189/mts0/\"\r\n",
        "\t\"/home/fsund/Projects/flat_square_fracture02/10_05_measuring_every_100th_timestep_200steps/000190/mts0/\"\r\n",
        "\t\"/home/fsund/Projects/flat_square_fracture02/10_05_measuring_every_100th_timestep_200steps/000191/mts0/\"\r\n",
        "\t\"/home/fsund/Projects/flat_square_fracture02/10_05_measuring_every_100th_timestep_200steps/000192/mts0/\"\r\n",
        "\t\"/home/fsund/Projects/flat_square_fracture02/10_05_measuring_every_100th_timestep_200steps/000193/mts0/\"\r\n",
        "\t\"/home/fsund/Projects/flat_square_fracture02/10_05_measuring_every_100th_timestep_200steps/000194/mts0/\"\r\n",
        "\t\"/home/fsund/Projects/flat_square_fracture02/10_05_measuring_every_100th_timestep_200steps/000195/mts0/\"\r\n",
        "\t\"/home/fsund/Projects/flat_square_fracture02/10_05_measuring_every_100th_timestep_200steps/000196/mts0/\"\r\n",
        "\t\"/home/fsund/Projects/flat_square_fracture02/10_05_measuring_every_100th_timestep_200steps/000197/mts0/\"\r\n",
        "\t\"/home/fsund/Projects/flat_square_fracture02/10_05_measuring_every_100th_timestep_200steps/000198/mts0/\"\r\n",
        "\t\"/home/fsund/Projects/flat_square_fracture02/10_05_measuring_every_100th_timestep_200steps/000199/mts0/\"\r\n",
        "\r\n",
        "r_start = 0\r\n",
        "r_step = 0.25\r\n",
        "n_steps = 40\r\n",
        "-> r_stop = 10\r\n",
        "\r\n"
       ]
      },
      {
       "output_type": "stream",
       "stream": "stdout",
       "text": [
        "Calculating msd for atoms in r = [0, 0.25), tracing 0 atoms ... done!\r\n"
       ]
      }
     ],
     "prompt_number": "*"
    },
    {
     "cell_type": "code",
     "collapsed": false,
     "input": [],
     "language": "python",
     "metadata": {},
     "outputs": [],
     "prompt_number": 55
    }
   ],
   "metadata": {}
  }
 ]
}